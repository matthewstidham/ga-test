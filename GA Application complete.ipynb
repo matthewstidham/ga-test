{
 "cells": [
  {
   "cell_type": "markdown",
   "metadata": {},
   "source": [
    "# Part 1"
   ]
  },
  {
   "cell_type": "markdown",
   "metadata": {},
   "source": [
    "# Load and Format Data"
   ]
  },
  {
   "cell_type": "code",
   "execution_count": 1,
   "metadata": {
    "collapsed": false
   },
   "outputs": [
    {
     "name": "stderr",
     "output_type": "stream",
     "text": [
      "/home/matthew/anaconda2/lib/python2.7/site-packages/sklearn/cross_validation.py:44: DeprecationWarning: This module was deprecated in version 0.18 in favor of the model_selection module into which all the refactored classes and functions are moved. Also note that the interface of the new CV iterators are different from that of this module. This module will be removed in 0.20.\n",
      "  \"This module will be removed in 0.20.\", DeprecationWarning)\n",
      "/home/matthew/anaconda2/lib/python2.7/site-packages/statsmodels/compat/pandas.py:56: FutureWarning: The pandas.core.datetools module is deprecated and will be removed in a future version. Please use the pandas.tseries module instead.\n",
      "  from pandas.core import datetools\n"
     ]
    }
   ],
   "source": [
    "import pandas as pd\n",
    "from sklearn.linear_model import LogisticRegression\n",
    "import numpy as np\n",
    "from sklearn.cross_validation import cross_val_score\n",
    "import statsmodels.api as sm\n",
    "pd.options.display.max_columns = 50\n",
    "import pylab as pl\n",
    "from sklearn import tree\n",
    "import graphviz\n",
    "from sklearn import linear_model\n",
    "from sklearn.ensemble import RandomForestClassifier\n",
    "from sklearn import datasets\n",
    "from sklearn.feature_selection import SelectFromModel\n",
    "from sklearn.ensemble import RandomForestRegressor"
   ]
  },
  {
   "cell_type": "code",
   "execution_count": 2,
   "metadata": {
    "collapsed": false
   },
   "outputs": [],
   "source": [
    "df = pd.read_csv('breast-cancer.csv')"
   ]
  },
  {
   "cell_type": "markdown",
   "metadata": {},
   "source": [
    "# Explore Data, mean and median smoothness"
   ]
  },
  {
   "cell_type": "code",
   "execution_count": 3,
   "metadata": {
    "collapsed": false
   },
   "outputs": [
    {
     "data": {
      "text/html": [
       "<div>\n",
       "<style>\n",
       "    .dataframe thead tr:only-child th {\n",
       "        text-align: right;\n",
       "    }\n",
       "\n",
       "    .dataframe thead th {\n",
       "        text-align: left;\n",
       "    }\n",
       "\n",
       "    .dataframe tbody tr th {\n",
       "        vertical-align: top;\n",
       "    }\n",
       "</style>\n",
       "<table border=\"1\" class=\"dataframe\">\n",
       "  <thead>\n",
       "    <tr style=\"text-align: right;\">\n",
       "      <th></th>\n",
       "      <th>ID</th>\n",
       "      <th>diagnosis</th>\n",
       "      <th>radius_mean</th>\n",
       "      <th>radius_sd_error</th>\n",
       "      <th>radius_worst</th>\n",
       "      <th>texture_mean</th>\n",
       "      <th>texture_sd_error</th>\n",
       "      <th>texture_worst</th>\n",
       "      <th>perimeter_mean</th>\n",
       "      <th>perimeter_sd_error</th>\n",
       "      <th>perimeter_worst</th>\n",
       "      <th>area_mean</th>\n",
       "      <th>area_sd_error</th>\n",
       "      <th>area_worst</th>\n",
       "      <th>smoothness_mean</th>\n",
       "      <th>smoothness_sd_error</th>\n",
       "      <th>smoothness_worst</th>\n",
       "      <th>compactness_mean</th>\n",
       "      <th>compactness_sd_error</th>\n",
       "      <th>compactness_worst</th>\n",
       "      <th>concavity_mean</th>\n",
       "      <th>concavity_sd_error</th>\n",
       "      <th>concavity_worst</th>\n",
       "      <th>concave_points_mean</th>\n",
       "      <th>concave_points_sd_error</th>\n",
       "      <th>concave_points_worst</th>\n",
       "      <th>symmetry_mean</th>\n",
       "      <th>symmetry_sd_error</th>\n",
       "      <th>symmetry_worst</th>\n",
       "      <th>fractal_dimension_mean</th>\n",
       "      <th>fractal_dimension_sd_error</th>\n",
       "      <th>fractal_dimension_worst</th>\n",
       "    </tr>\n",
       "  </thead>\n",
       "  <tbody>\n",
       "    <tr>\n",
       "      <th>0</th>\n",
       "      <td>842302</td>\n",
       "      <td>M</td>\n",
       "      <td>17.99</td>\n",
       "      <td>10.38</td>\n",
       "      <td>122.80</td>\n",
       "      <td>1001.0</td>\n",
       "      <td>0.11840</td>\n",
       "      <td>0.27760</td>\n",
       "      <td>0.3001</td>\n",
       "      <td>0.14710</td>\n",
       "      <td>0.2419</td>\n",
       "      <td>0.07871</td>\n",
       "      <td>1.0950</td>\n",
       "      <td>0.9053</td>\n",
       "      <td>8.589</td>\n",
       "      <td>153.40</td>\n",
       "      <td>0.006399</td>\n",
       "      <td>0.04904</td>\n",
       "      <td>0.05373</td>\n",
       "      <td>0.01587</td>\n",
       "      <td>0.03003</td>\n",
       "      <td>0.006193</td>\n",
       "      <td>25.38</td>\n",
       "      <td>17.33</td>\n",
       "      <td>184.60</td>\n",
       "      <td>2019.0</td>\n",
       "      <td>0.1622</td>\n",
       "      <td>0.6656</td>\n",
       "      <td>0.7119</td>\n",
       "      <td>0.2654</td>\n",
       "      <td>0.4601</td>\n",
       "      <td>0.11890</td>\n",
       "    </tr>\n",
       "    <tr>\n",
       "      <th>1</th>\n",
       "      <td>842517</td>\n",
       "      <td>M</td>\n",
       "      <td>20.57</td>\n",
       "      <td>17.77</td>\n",
       "      <td>132.90</td>\n",
       "      <td>1326.0</td>\n",
       "      <td>0.08474</td>\n",
       "      <td>0.07864</td>\n",
       "      <td>0.0869</td>\n",
       "      <td>0.07017</td>\n",
       "      <td>0.1812</td>\n",
       "      <td>0.05667</td>\n",
       "      <td>0.5435</td>\n",
       "      <td>0.7339</td>\n",
       "      <td>3.398</td>\n",
       "      <td>74.08</td>\n",
       "      <td>0.005225</td>\n",
       "      <td>0.01308</td>\n",
       "      <td>0.01860</td>\n",
       "      <td>0.01340</td>\n",
       "      <td>0.01389</td>\n",
       "      <td>0.003532</td>\n",
       "      <td>24.99</td>\n",
       "      <td>23.41</td>\n",
       "      <td>158.80</td>\n",
       "      <td>1956.0</td>\n",
       "      <td>0.1238</td>\n",
       "      <td>0.1866</td>\n",
       "      <td>0.2416</td>\n",
       "      <td>0.1860</td>\n",
       "      <td>0.2750</td>\n",
       "      <td>0.08902</td>\n",
       "    </tr>\n",
       "    <tr>\n",
       "      <th>2</th>\n",
       "      <td>84300903</td>\n",
       "      <td>M</td>\n",
       "      <td>19.69</td>\n",
       "      <td>21.25</td>\n",
       "      <td>130.00</td>\n",
       "      <td>1203.0</td>\n",
       "      <td>0.10960</td>\n",
       "      <td>0.15990</td>\n",
       "      <td>0.1974</td>\n",
       "      <td>0.12790</td>\n",
       "      <td>0.2069</td>\n",
       "      <td>0.05999</td>\n",
       "      <td>0.7456</td>\n",
       "      <td>0.7869</td>\n",
       "      <td>4.585</td>\n",
       "      <td>94.03</td>\n",
       "      <td>0.006150</td>\n",
       "      <td>0.04006</td>\n",
       "      <td>0.03832</td>\n",
       "      <td>0.02058</td>\n",
       "      <td>0.02250</td>\n",
       "      <td>0.004571</td>\n",
       "      <td>23.57</td>\n",
       "      <td>25.53</td>\n",
       "      <td>152.50</td>\n",
       "      <td>1709.0</td>\n",
       "      <td>0.1444</td>\n",
       "      <td>0.4245</td>\n",
       "      <td>0.4504</td>\n",
       "      <td>0.2430</td>\n",
       "      <td>0.3613</td>\n",
       "      <td>0.08758</td>\n",
       "    </tr>\n",
       "    <tr>\n",
       "      <th>3</th>\n",
       "      <td>84348301</td>\n",
       "      <td>M</td>\n",
       "      <td>11.42</td>\n",
       "      <td>20.38</td>\n",
       "      <td>77.58</td>\n",
       "      <td>386.1</td>\n",
       "      <td>0.14250</td>\n",
       "      <td>0.28390</td>\n",
       "      <td>0.2414</td>\n",
       "      <td>0.10520</td>\n",
       "      <td>0.2597</td>\n",
       "      <td>0.09744</td>\n",
       "      <td>0.4956</td>\n",
       "      <td>1.1560</td>\n",
       "      <td>3.445</td>\n",
       "      <td>27.23</td>\n",
       "      <td>0.009110</td>\n",
       "      <td>0.07458</td>\n",
       "      <td>0.05661</td>\n",
       "      <td>0.01867</td>\n",
       "      <td>0.05963</td>\n",
       "      <td>0.009208</td>\n",
       "      <td>14.91</td>\n",
       "      <td>26.50</td>\n",
       "      <td>98.87</td>\n",
       "      <td>567.7</td>\n",
       "      <td>0.2098</td>\n",
       "      <td>0.8663</td>\n",
       "      <td>0.6869</td>\n",
       "      <td>0.2575</td>\n",
       "      <td>0.6638</td>\n",
       "      <td>0.17300</td>\n",
       "    </tr>\n",
       "    <tr>\n",
       "      <th>4</th>\n",
       "      <td>84358402</td>\n",
       "      <td>M</td>\n",
       "      <td>20.29</td>\n",
       "      <td>14.34</td>\n",
       "      <td>135.10</td>\n",
       "      <td>1297.0</td>\n",
       "      <td>0.10030</td>\n",
       "      <td>0.13280</td>\n",
       "      <td>0.1980</td>\n",
       "      <td>0.10430</td>\n",
       "      <td>0.1809</td>\n",
       "      <td>0.05883</td>\n",
       "      <td>0.7572</td>\n",
       "      <td>0.7813</td>\n",
       "      <td>5.438</td>\n",
       "      <td>94.44</td>\n",
       "      <td>0.011490</td>\n",
       "      <td>0.02461</td>\n",
       "      <td>0.05688</td>\n",
       "      <td>0.01885</td>\n",
       "      <td>0.01756</td>\n",
       "      <td>0.005115</td>\n",
       "      <td>22.54</td>\n",
       "      <td>16.67</td>\n",
       "      <td>152.20</td>\n",
       "      <td>1575.0</td>\n",
       "      <td>0.1374</td>\n",
       "      <td>0.2050</td>\n",
       "      <td>0.4000</td>\n",
       "      <td>0.1625</td>\n",
       "      <td>0.2364</td>\n",
       "      <td>0.07678</td>\n",
       "    </tr>\n",
       "  </tbody>\n",
       "</table>\n",
       "</div>"
      ],
      "text/plain": [
       "         ID diagnosis  radius_mean  radius_sd_error  radius_worst  \\\n",
       "0    842302         M        17.99            10.38        122.80   \n",
       "1    842517         M        20.57            17.77        132.90   \n",
       "2  84300903         M        19.69            21.25        130.00   \n",
       "3  84348301         M        11.42            20.38         77.58   \n",
       "4  84358402         M        20.29            14.34        135.10   \n",
       "\n",
       "   texture_mean  texture_sd_error  texture_worst  perimeter_mean  \\\n",
       "0        1001.0           0.11840        0.27760          0.3001   \n",
       "1        1326.0           0.08474        0.07864          0.0869   \n",
       "2        1203.0           0.10960        0.15990          0.1974   \n",
       "3         386.1           0.14250        0.28390          0.2414   \n",
       "4        1297.0           0.10030        0.13280          0.1980   \n",
       "\n",
       "   perimeter_sd_error  perimeter_worst  area_mean  area_sd_error  area_worst  \\\n",
       "0             0.14710           0.2419    0.07871         1.0950      0.9053   \n",
       "1             0.07017           0.1812    0.05667         0.5435      0.7339   \n",
       "2             0.12790           0.2069    0.05999         0.7456      0.7869   \n",
       "3             0.10520           0.2597    0.09744         0.4956      1.1560   \n",
       "4             0.10430           0.1809    0.05883         0.7572      0.7813   \n",
       "\n",
       "   smoothness_mean  smoothness_sd_error  smoothness_worst  compactness_mean  \\\n",
       "0            8.589               153.40          0.006399           0.04904   \n",
       "1            3.398                74.08          0.005225           0.01308   \n",
       "2            4.585                94.03          0.006150           0.04006   \n",
       "3            3.445                27.23          0.009110           0.07458   \n",
       "4            5.438                94.44          0.011490           0.02461   \n",
       "\n",
       "   compactness_sd_error  compactness_worst  concavity_mean  \\\n",
       "0               0.05373            0.01587         0.03003   \n",
       "1               0.01860            0.01340         0.01389   \n",
       "2               0.03832            0.02058         0.02250   \n",
       "3               0.05661            0.01867         0.05963   \n",
       "4               0.05688            0.01885         0.01756   \n",
       "\n",
       "   concavity_sd_error  concavity_worst  concave_points_mean  \\\n",
       "0            0.006193            25.38                17.33   \n",
       "1            0.003532            24.99                23.41   \n",
       "2            0.004571            23.57                25.53   \n",
       "3            0.009208            14.91                26.50   \n",
       "4            0.005115            22.54                16.67   \n",
       "\n",
       "   concave_points_sd_error  concave_points_worst  symmetry_mean  \\\n",
       "0                   184.60                2019.0         0.1622   \n",
       "1                   158.80                1956.0         0.1238   \n",
       "2                   152.50                1709.0         0.1444   \n",
       "3                    98.87                 567.7         0.2098   \n",
       "4                   152.20                1575.0         0.1374   \n",
       "\n",
       "   symmetry_sd_error  symmetry_worst  fractal_dimension_mean  \\\n",
       "0             0.6656          0.7119                  0.2654   \n",
       "1             0.1866          0.2416                  0.1860   \n",
       "2             0.4245          0.4504                  0.2430   \n",
       "3             0.8663          0.6869                  0.2575   \n",
       "4             0.2050          0.4000                  0.1625   \n",
       "\n",
       "   fractal_dimension_sd_error  fractal_dimension_worst  \n",
       "0                      0.4601                  0.11890  \n",
       "1                      0.2750                  0.08902  \n",
       "2                      0.3613                  0.08758  \n",
       "3                      0.6638                  0.17300  \n",
       "4                      0.2364                  0.07678  "
      ]
     },
     "execution_count": 3,
     "metadata": {},
     "output_type": "execute_result"
    }
   ],
   "source": [
    "df.head()"
   ]
  },
  {
   "cell_type": "code",
   "execution_count": 4,
   "metadata": {
    "collapsed": false
   },
   "outputs": [
    {
     "data": {
      "text/plain": [
       "(569, 32)"
      ]
     },
     "execution_count": 4,
     "metadata": {},
     "output_type": "execute_result"
    }
   ],
   "source": [
    "df.shape"
   ]
  },
  {
   "cell_type": "code",
   "execution_count": 5,
   "metadata": {
    "collapsed": false
   },
   "outputs": [
    {
     "data": {
      "text/plain": [
       "B    357\n",
       "M    212\n",
       "Name: diagnosis, dtype: int64"
      ]
     },
     "execution_count": 5,
     "metadata": {},
     "output_type": "execute_result"
    }
   ],
   "source": [
    "df['diagnosis'].value_counts()"
   ]
  },
  {
   "cell_type": "code",
   "execution_count": 6,
   "metadata": {
    "collapsed": false
   },
   "outputs": [
    {
     "data": {
      "text/html": [
       "<div>\n",
       "<style>\n",
       "    .dataframe thead tr:only-child th {\n",
       "        text-align: right;\n",
       "    }\n",
       "\n",
       "    .dataframe thead th {\n",
       "        text-align: left;\n",
       "    }\n",
       "\n",
       "    .dataframe tbody tr th {\n",
       "        vertical-align: top;\n",
       "    }\n",
       "</style>\n",
       "<table border=\"1\" class=\"dataframe\">\n",
       "  <thead>\n",
       "    <tr style=\"text-align: right;\">\n",
       "      <th></th>\n",
       "      <th>ID</th>\n",
       "      <th>radius_mean</th>\n",
       "      <th>radius_sd_error</th>\n",
       "      <th>radius_worst</th>\n",
       "      <th>texture_mean</th>\n",
       "      <th>texture_sd_error</th>\n",
       "      <th>texture_worst</th>\n",
       "      <th>perimeter_mean</th>\n",
       "      <th>perimeter_sd_error</th>\n",
       "      <th>perimeter_worst</th>\n",
       "      <th>area_mean</th>\n",
       "      <th>area_sd_error</th>\n",
       "      <th>area_worst</th>\n",
       "      <th>smoothness_mean</th>\n",
       "      <th>smoothness_sd_error</th>\n",
       "      <th>smoothness_worst</th>\n",
       "      <th>compactness_mean</th>\n",
       "      <th>compactness_sd_error</th>\n",
       "      <th>compactness_worst</th>\n",
       "      <th>concavity_mean</th>\n",
       "      <th>concavity_sd_error</th>\n",
       "      <th>concavity_worst</th>\n",
       "      <th>concave_points_mean</th>\n",
       "      <th>concave_points_sd_error</th>\n",
       "      <th>concave_points_worst</th>\n",
       "      <th>symmetry_mean</th>\n",
       "      <th>symmetry_sd_error</th>\n",
       "      <th>symmetry_worst</th>\n",
       "      <th>fractal_dimension_mean</th>\n",
       "      <th>fractal_dimension_sd_error</th>\n",
       "      <th>fractal_dimension_worst</th>\n",
       "    </tr>\n",
       "    <tr>\n",
       "      <th>diagnosis</th>\n",
       "      <th></th>\n",
       "      <th></th>\n",
       "      <th></th>\n",
       "      <th></th>\n",
       "      <th></th>\n",
       "      <th></th>\n",
       "      <th></th>\n",
       "      <th></th>\n",
       "      <th></th>\n",
       "      <th></th>\n",
       "      <th></th>\n",
       "      <th></th>\n",
       "      <th></th>\n",
       "      <th></th>\n",
       "      <th></th>\n",
       "      <th></th>\n",
       "      <th></th>\n",
       "      <th></th>\n",
       "      <th></th>\n",
       "      <th></th>\n",
       "      <th></th>\n",
       "      <th></th>\n",
       "      <th></th>\n",
       "      <th></th>\n",
       "      <th></th>\n",
       "      <th></th>\n",
       "      <th></th>\n",
       "      <th></th>\n",
       "      <th></th>\n",
       "      <th></th>\n",
       "      <th></th>\n",
       "    </tr>\n",
       "  </thead>\n",
       "  <tbody>\n",
       "    <tr>\n",
       "      <th>B</th>\n",
       "      <td>2.654382e+07</td>\n",
       "      <td>12.146524</td>\n",
       "      <td>17.914762</td>\n",
       "      <td>78.075406</td>\n",
       "      <td>462.790196</td>\n",
       "      <td>0.092478</td>\n",
       "      <td>0.080085</td>\n",
       "      <td>0.046058</td>\n",
       "      <td>0.025717</td>\n",
       "      <td>0.174186</td>\n",
       "      <td>0.062867</td>\n",
       "      <td>0.284082</td>\n",
       "      <td>1.220380</td>\n",
       "      <td>2.000321</td>\n",
       "      <td>21.135148</td>\n",
       "      <td>0.007196</td>\n",
       "      <td>0.021438</td>\n",
       "      <td>0.025997</td>\n",
       "      <td>0.009858</td>\n",
       "      <td>0.020584</td>\n",
       "      <td>0.003636</td>\n",
       "      <td>13.379801</td>\n",
       "      <td>23.515070</td>\n",
       "      <td>87.005938</td>\n",
       "      <td>558.899440</td>\n",
       "      <td>0.124959</td>\n",
       "      <td>0.182673</td>\n",
       "      <td>0.166238</td>\n",
       "      <td>0.074444</td>\n",
       "      <td>0.270246</td>\n",
       "      <td>0.079442</td>\n",
       "    </tr>\n",
       "    <tr>\n",
       "      <th>M</th>\n",
       "      <td>3.681805e+07</td>\n",
       "      <td>17.462830</td>\n",
       "      <td>21.604906</td>\n",
       "      <td>115.365377</td>\n",
       "      <td>978.376415</td>\n",
       "      <td>0.102898</td>\n",
       "      <td>0.145188</td>\n",
       "      <td>0.160775</td>\n",
       "      <td>0.087990</td>\n",
       "      <td>0.192909</td>\n",
       "      <td>0.062680</td>\n",
       "      <td>0.609083</td>\n",
       "      <td>1.210915</td>\n",
       "      <td>4.323929</td>\n",
       "      <td>72.672406</td>\n",
       "      <td>0.006780</td>\n",
       "      <td>0.032281</td>\n",
       "      <td>0.041824</td>\n",
       "      <td>0.015060</td>\n",
       "      <td>0.020472</td>\n",
       "      <td>0.004062</td>\n",
       "      <td>21.134811</td>\n",
       "      <td>29.318208</td>\n",
       "      <td>141.370330</td>\n",
       "      <td>1422.286321</td>\n",
       "      <td>0.144845</td>\n",
       "      <td>0.374824</td>\n",
       "      <td>0.450606</td>\n",
       "      <td>0.182237</td>\n",
       "      <td>0.323468</td>\n",
       "      <td>0.091530</td>\n",
       "    </tr>\n",
       "  </tbody>\n",
       "</table>\n",
       "</div>"
      ],
      "text/plain": [
       "                     ID  radius_mean  radius_sd_error  radius_worst  \\\n",
       "diagnosis                                                             \n",
       "B          2.654382e+07    12.146524        17.914762     78.075406   \n",
       "M          3.681805e+07    17.462830        21.604906    115.365377   \n",
       "\n",
       "           texture_mean  texture_sd_error  texture_worst  perimeter_mean  \\\n",
       "diagnosis                                                                  \n",
       "B            462.790196          0.092478       0.080085        0.046058   \n",
       "M            978.376415          0.102898       0.145188        0.160775   \n",
       "\n",
       "           perimeter_sd_error  perimeter_worst  area_mean  area_sd_error  \\\n",
       "diagnosis                                                                  \n",
       "B                    0.025717         0.174186   0.062867       0.284082   \n",
       "M                    0.087990         0.192909   0.062680       0.609083   \n",
       "\n",
       "           area_worst  smoothness_mean  smoothness_sd_error  smoothness_worst  \\\n",
       "diagnosis                                                                       \n",
       "B            1.220380         2.000321            21.135148          0.007196   \n",
       "M            1.210915         4.323929            72.672406          0.006780   \n",
       "\n",
       "           compactness_mean  compactness_sd_error  compactness_worst  \\\n",
       "diagnosis                                                              \n",
       "B                  0.021438              0.025997           0.009858   \n",
       "M                  0.032281              0.041824           0.015060   \n",
       "\n",
       "           concavity_mean  concavity_sd_error  concavity_worst  \\\n",
       "diagnosis                                                        \n",
       "B                0.020584            0.003636        13.379801   \n",
       "M                0.020472            0.004062        21.134811   \n",
       "\n",
       "           concave_points_mean  concave_points_sd_error  concave_points_worst  \\\n",
       "diagnosis                                                                       \n",
       "B                    23.515070                87.005938            558.899440   \n",
       "M                    29.318208               141.370330           1422.286321   \n",
       "\n",
       "           symmetry_mean  symmetry_sd_error  symmetry_worst  \\\n",
       "diagnosis                                                     \n",
       "B               0.124959           0.182673        0.166238   \n",
       "M               0.144845           0.374824        0.450606   \n",
       "\n",
       "           fractal_dimension_mean  fractal_dimension_sd_error  \\\n",
       "diagnosis                                                       \n",
       "B                        0.074444                    0.270246   \n",
       "M                        0.182237                    0.323468   \n",
       "\n",
       "           fractal_dimension_worst  \n",
       "diagnosis                           \n",
       "B                         0.079442  \n",
       "M                         0.091530  "
      ]
     },
     "execution_count": 6,
     "metadata": {},
     "output_type": "execute_result"
    }
   ],
   "source": [
    "df.groupby('diagnosis').mean()"
   ]
  },
  {
   "cell_type": "code",
   "execution_count": 7,
   "metadata": {
    "collapsed": false
   },
   "outputs": [
    {
     "data": {
      "text/html": [
       "<div>\n",
       "<style>\n",
       "    .dataframe thead tr:only-child th {\n",
       "        text-align: right;\n",
       "    }\n",
       "\n",
       "    .dataframe thead th {\n",
       "        text-align: left;\n",
       "    }\n",
       "\n",
       "    .dataframe tbody tr th {\n",
       "        vertical-align: top;\n",
       "    }\n",
       "</style>\n",
       "<table border=\"1\" class=\"dataframe\">\n",
       "  <thead>\n",
       "    <tr style=\"text-align: right;\">\n",
       "      <th></th>\n",
       "      <th>ID</th>\n",
       "      <th>radius_mean</th>\n",
       "      <th>radius_sd_error</th>\n",
       "      <th>radius_worst</th>\n",
       "      <th>texture_mean</th>\n",
       "      <th>texture_sd_error</th>\n",
       "      <th>texture_worst</th>\n",
       "      <th>perimeter_mean</th>\n",
       "      <th>perimeter_sd_error</th>\n",
       "      <th>perimeter_worst</th>\n",
       "      <th>area_mean</th>\n",
       "      <th>area_sd_error</th>\n",
       "      <th>area_worst</th>\n",
       "      <th>smoothness_mean</th>\n",
       "      <th>smoothness_sd_error</th>\n",
       "      <th>smoothness_worst</th>\n",
       "      <th>compactness_mean</th>\n",
       "      <th>compactness_sd_error</th>\n",
       "      <th>compactness_worst</th>\n",
       "      <th>concavity_mean</th>\n",
       "      <th>concavity_sd_error</th>\n",
       "      <th>concavity_worst</th>\n",
       "      <th>concave_points_mean</th>\n",
       "      <th>concave_points_sd_error</th>\n",
       "      <th>concave_points_worst</th>\n",
       "      <th>symmetry_mean</th>\n",
       "      <th>symmetry_sd_error</th>\n",
       "      <th>symmetry_worst</th>\n",
       "      <th>fractal_dimension_mean</th>\n",
       "      <th>fractal_dimension_sd_error</th>\n",
       "      <th>fractal_dimension_worst</th>\n",
       "    </tr>\n",
       "    <tr>\n",
       "      <th>diagnosis</th>\n",
       "      <th></th>\n",
       "      <th></th>\n",
       "      <th></th>\n",
       "      <th></th>\n",
       "      <th></th>\n",
       "      <th></th>\n",
       "      <th></th>\n",
       "      <th></th>\n",
       "      <th></th>\n",
       "      <th></th>\n",
       "      <th></th>\n",
       "      <th></th>\n",
       "      <th></th>\n",
       "      <th></th>\n",
       "      <th></th>\n",
       "      <th></th>\n",
       "      <th></th>\n",
       "      <th></th>\n",
       "      <th></th>\n",
       "      <th></th>\n",
       "      <th></th>\n",
       "      <th></th>\n",
       "      <th></th>\n",
       "      <th></th>\n",
       "      <th></th>\n",
       "      <th></th>\n",
       "      <th></th>\n",
       "      <th></th>\n",
       "      <th></th>\n",
       "      <th></th>\n",
       "      <th></th>\n",
       "    </tr>\n",
       "  </thead>\n",
       "  <tbody>\n",
       "    <tr>\n",
       "      <th>B</th>\n",
       "      <td>1.167397e+08</td>\n",
       "      <td>1.780512</td>\n",
       "      <td>3.995125</td>\n",
       "      <td>11.807438</td>\n",
       "      <td>134.287118</td>\n",
       "      <td>0.013446</td>\n",
       "      <td>0.033750</td>\n",
       "      <td>0.043442</td>\n",
       "      <td>0.015909</td>\n",
       "      <td>0.024807</td>\n",
       "      <td>0.006747</td>\n",
       "      <td>0.112570</td>\n",
       "      <td>0.589180</td>\n",
       "      <td>0.771169</td>\n",
       "      <td>8.843472</td>\n",
       "      <td>0.003061</td>\n",
       "      <td>0.016352</td>\n",
       "      <td>0.032918</td>\n",
       "      <td>0.005709</td>\n",
       "      <td>0.006999</td>\n",
       "      <td>0.002938</td>\n",
       "      <td>1.981368</td>\n",
       "      <td>5.493955</td>\n",
       "      <td>13.527091</td>\n",
       "      <td>163.601424</td>\n",
       "      <td>0.020013</td>\n",
       "      <td>0.092180</td>\n",
       "      <td>0.140368</td>\n",
       "      <td>0.035797</td>\n",
       "      <td>0.041745</td>\n",
       "      <td>0.013804</td>\n",
       "    </tr>\n",
       "    <tr>\n",
       "      <th>M</th>\n",
       "      <td>1.378965e+08</td>\n",
       "      <td>3.203971</td>\n",
       "      <td>3.779470</td>\n",
       "      <td>21.854653</td>\n",
       "      <td>367.937978</td>\n",
       "      <td>0.012608</td>\n",
       "      <td>0.053987</td>\n",
       "      <td>0.075019</td>\n",
       "      <td>0.034374</td>\n",
       "      <td>0.027638</td>\n",
       "      <td>0.007573</td>\n",
       "      <td>0.345039</td>\n",
       "      <td>0.483178</td>\n",
       "      <td>2.568546</td>\n",
       "      <td>61.355268</td>\n",
       "      <td>0.002890</td>\n",
       "      <td>0.018387</td>\n",
       "      <td>0.021603</td>\n",
       "      <td>0.005517</td>\n",
       "      <td>0.010065</td>\n",
       "      <td>0.002041</td>\n",
       "      <td>4.283569</td>\n",
       "      <td>5.434804</td>\n",
       "      <td>29.457055</td>\n",
       "      <td>597.967743</td>\n",
       "      <td>0.021870</td>\n",
       "      <td>0.170372</td>\n",
       "      <td>0.181507</td>\n",
       "      <td>0.046308</td>\n",
       "      <td>0.074685</td>\n",
       "      <td>0.021553</td>\n",
       "    </tr>\n",
       "  </tbody>\n",
       "</table>\n",
       "</div>"
      ],
      "text/plain": [
       "                     ID  radius_mean  radius_sd_error  radius_worst  \\\n",
       "diagnosis                                                             \n",
       "B          1.167397e+08     1.780512         3.995125     11.807438   \n",
       "M          1.378965e+08     3.203971         3.779470     21.854653   \n",
       "\n",
       "           texture_mean  texture_sd_error  texture_worst  perimeter_mean  \\\n",
       "diagnosis                                                                  \n",
       "B            134.287118          0.013446       0.033750        0.043442   \n",
       "M            367.937978          0.012608       0.053987        0.075019   \n",
       "\n",
       "           perimeter_sd_error  perimeter_worst  area_mean  area_sd_error  \\\n",
       "diagnosis                                                                  \n",
       "B                    0.015909         0.024807   0.006747       0.112570   \n",
       "M                    0.034374         0.027638   0.007573       0.345039   \n",
       "\n",
       "           area_worst  smoothness_mean  smoothness_sd_error  smoothness_worst  \\\n",
       "diagnosis                                                                       \n",
       "B            0.589180         0.771169             8.843472          0.003061   \n",
       "M            0.483178         2.568546            61.355268          0.002890   \n",
       "\n",
       "           compactness_mean  compactness_sd_error  compactness_worst  \\\n",
       "diagnosis                                                              \n",
       "B                  0.016352              0.032918           0.005709   \n",
       "M                  0.018387              0.021603           0.005517   \n",
       "\n",
       "           concavity_mean  concavity_sd_error  concavity_worst  \\\n",
       "diagnosis                                                        \n",
       "B                0.006999            0.002938         1.981368   \n",
       "M                0.010065            0.002041         4.283569   \n",
       "\n",
       "           concave_points_mean  concave_points_sd_error  concave_points_worst  \\\n",
       "diagnosis                                                                       \n",
       "B                     5.493955                13.527091            163.601424   \n",
       "M                     5.434804                29.457055            597.967743   \n",
       "\n",
       "           symmetry_mean  symmetry_sd_error  symmetry_worst  \\\n",
       "diagnosis                                                     \n",
       "B               0.020013           0.092180        0.140368   \n",
       "M               0.021870           0.170372        0.181507   \n",
       "\n",
       "           fractal_dimension_mean  fractal_dimension_sd_error  \\\n",
       "diagnosis                                                       \n",
       "B                        0.035797                    0.041745   \n",
       "M                        0.046308                    0.074685   \n",
       "\n",
       "           fractal_dimension_worst  \n",
       "diagnosis                           \n",
       "B                         0.013804  \n",
       "M                         0.021553  "
      ]
     },
     "execution_count": 7,
     "metadata": {},
     "output_type": "execute_result"
    }
   ],
   "source": [
    "df.groupby('diagnosis').std()"
   ]
  },
  {
   "cell_type": "code",
   "execution_count": 8,
   "metadata": {
    "collapsed": false
   },
   "outputs": [
    {
     "data": {
      "text/html": [
       "<div>\n",
       "<style>\n",
       "    .dataframe thead tr:only-child th {\n",
       "        text-align: right;\n",
       "    }\n",
       "\n",
       "    .dataframe thead th {\n",
       "        text-align: left;\n",
       "    }\n",
       "\n",
       "    .dataframe tbody tr th {\n",
       "        vertical-align: top;\n",
       "    }\n",
       "</style>\n",
       "<table border=\"1\" class=\"dataframe\">\n",
       "  <thead>\n",
       "    <tr style=\"text-align: right;\">\n",
       "      <th></th>\n",
       "      <th>ID</th>\n",
       "      <th>radius_mean</th>\n",
       "      <th>radius_sd_error</th>\n",
       "      <th>radius_worst</th>\n",
       "      <th>texture_mean</th>\n",
       "      <th>texture_sd_error</th>\n",
       "      <th>texture_worst</th>\n",
       "      <th>perimeter_mean</th>\n",
       "      <th>perimeter_sd_error</th>\n",
       "      <th>perimeter_worst</th>\n",
       "      <th>area_mean</th>\n",
       "      <th>area_sd_error</th>\n",
       "      <th>area_worst</th>\n",
       "      <th>smoothness_mean</th>\n",
       "      <th>smoothness_sd_error</th>\n",
       "      <th>smoothness_worst</th>\n",
       "      <th>compactness_mean</th>\n",
       "      <th>compactness_sd_error</th>\n",
       "      <th>compactness_worst</th>\n",
       "      <th>concavity_mean</th>\n",
       "      <th>concavity_sd_error</th>\n",
       "      <th>concavity_worst</th>\n",
       "      <th>concave_points_mean</th>\n",
       "      <th>concave_points_sd_error</th>\n",
       "      <th>concave_points_worst</th>\n",
       "      <th>symmetry_mean</th>\n",
       "      <th>symmetry_sd_error</th>\n",
       "      <th>symmetry_worst</th>\n",
       "      <th>fractal_dimension_mean</th>\n",
       "      <th>fractal_dimension_sd_error</th>\n",
       "      <th>fractal_dimension_worst</th>\n",
       "    </tr>\n",
       "    <tr>\n",
       "      <th>diagnosis</th>\n",
       "      <th></th>\n",
       "      <th></th>\n",
       "      <th></th>\n",
       "      <th></th>\n",
       "      <th></th>\n",
       "      <th></th>\n",
       "      <th></th>\n",
       "      <th></th>\n",
       "      <th></th>\n",
       "      <th></th>\n",
       "      <th></th>\n",
       "      <th></th>\n",
       "      <th></th>\n",
       "      <th></th>\n",
       "      <th></th>\n",
       "      <th></th>\n",
       "      <th></th>\n",
       "      <th></th>\n",
       "      <th></th>\n",
       "      <th></th>\n",
       "      <th></th>\n",
       "      <th></th>\n",
       "      <th></th>\n",
       "      <th></th>\n",
       "      <th></th>\n",
       "      <th></th>\n",
       "      <th></th>\n",
       "      <th></th>\n",
       "      <th></th>\n",
       "      <th></th>\n",
       "      <th></th>\n",
       "    </tr>\n",
       "  </thead>\n",
       "  <tbody>\n",
       "    <tr>\n",
       "      <th>B</th>\n",
       "      <td>908916.0</td>\n",
       "      <td>12.200</td>\n",
       "      <td>17.39</td>\n",
       "      <td>78.18</td>\n",
       "      <td>458.4</td>\n",
       "      <td>0.09076</td>\n",
       "      <td>0.07529</td>\n",
       "      <td>0.03709</td>\n",
       "      <td>0.02344</td>\n",
       "      <td>0.1714</td>\n",
       "      <td>0.061540</td>\n",
       "      <td>0.2575</td>\n",
       "      <td>1.1080</td>\n",
       "      <td>1.8510</td>\n",
       "      <td>19.630</td>\n",
       "      <td>0.006530</td>\n",
       "      <td>0.01631</td>\n",
       "      <td>0.018400</td>\n",
       "      <td>0.009061</td>\n",
       "      <td>0.01909</td>\n",
       "      <td>0.002808</td>\n",
       "      <td>13.35</td>\n",
       "      <td>22.820</td>\n",
       "      <td>86.92</td>\n",
       "      <td>547.4</td>\n",
       "      <td>0.12540</td>\n",
       "      <td>0.16980</td>\n",
       "      <td>0.1412</td>\n",
       "      <td>0.07431</td>\n",
       "      <td>0.2687</td>\n",
       "      <td>0.07712</td>\n",
       "    </tr>\n",
       "    <tr>\n",
       "      <th>M</th>\n",
       "      <td>895366.5</td>\n",
       "      <td>17.325</td>\n",
       "      <td>21.46</td>\n",
       "      <td>114.20</td>\n",
       "      <td>932.0</td>\n",
       "      <td>0.10220</td>\n",
       "      <td>0.13235</td>\n",
       "      <td>0.15135</td>\n",
       "      <td>0.08628</td>\n",
       "      <td>0.1899</td>\n",
       "      <td>0.061575</td>\n",
       "      <td>0.5472</td>\n",
       "      <td>1.1025</td>\n",
       "      <td>3.6795</td>\n",
       "      <td>58.455</td>\n",
       "      <td>0.006209</td>\n",
       "      <td>0.02859</td>\n",
       "      <td>0.037125</td>\n",
       "      <td>0.014205</td>\n",
       "      <td>0.01770</td>\n",
       "      <td>0.003739</td>\n",
       "      <td>20.59</td>\n",
       "      <td>28.945</td>\n",
       "      <td>138.00</td>\n",
       "      <td>1303.0</td>\n",
       "      <td>0.14345</td>\n",
       "      <td>0.35635</td>\n",
       "      <td>0.4049</td>\n",
       "      <td>0.18200</td>\n",
       "      <td>0.3103</td>\n",
       "      <td>0.08760</td>\n",
       "    </tr>\n",
       "  </tbody>\n",
       "</table>\n",
       "</div>"
      ],
      "text/plain": [
       "                 ID  radius_mean  radius_sd_error  radius_worst  texture_mean  \\\n",
       "diagnosis                                                                       \n",
       "B          908916.0       12.200            17.39         78.18         458.4   \n",
       "M          895366.5       17.325            21.46        114.20         932.0   \n",
       "\n",
       "           texture_sd_error  texture_worst  perimeter_mean  \\\n",
       "diagnosis                                                    \n",
       "B                   0.09076        0.07529         0.03709   \n",
       "M                   0.10220        0.13235         0.15135   \n",
       "\n",
       "           perimeter_sd_error  perimeter_worst  area_mean  area_sd_error  \\\n",
       "diagnosis                                                                  \n",
       "B                     0.02344           0.1714   0.061540         0.2575   \n",
       "M                     0.08628           0.1899   0.061575         0.5472   \n",
       "\n",
       "           area_worst  smoothness_mean  smoothness_sd_error  smoothness_worst  \\\n",
       "diagnosis                                                                       \n",
       "B              1.1080           1.8510               19.630          0.006530   \n",
       "M              1.1025           3.6795               58.455          0.006209   \n",
       "\n",
       "           compactness_mean  compactness_sd_error  compactness_worst  \\\n",
       "diagnosis                                                              \n",
       "B                   0.01631              0.018400           0.009061   \n",
       "M                   0.02859              0.037125           0.014205   \n",
       "\n",
       "           concavity_mean  concavity_sd_error  concavity_worst  \\\n",
       "diagnosis                                                        \n",
       "B                 0.01909            0.002808            13.35   \n",
       "M                 0.01770            0.003739            20.59   \n",
       "\n",
       "           concave_points_mean  concave_points_sd_error  concave_points_worst  \\\n",
       "diagnosis                                                                       \n",
       "B                       22.820                    86.92                 547.4   \n",
       "M                       28.945                   138.00                1303.0   \n",
       "\n",
       "           symmetry_mean  symmetry_sd_error  symmetry_worst  \\\n",
       "diagnosis                                                     \n",
       "B                0.12540            0.16980          0.1412   \n",
       "M                0.14345            0.35635          0.4049   \n",
       "\n",
       "           fractal_dimension_mean  fractal_dimension_sd_error  \\\n",
       "diagnosis                                                       \n",
       "B                         0.07431                      0.2687   \n",
       "M                         0.18200                      0.3103   \n",
       "\n",
       "           fractal_dimension_worst  \n",
       "diagnosis                           \n",
       "B                          0.07712  \n",
       "M                          0.08760  "
      ]
     },
     "execution_count": 8,
     "metadata": {},
     "output_type": "execute_result"
    }
   ],
   "source": [
    "df.groupby('diagnosis').median()"
   ]
  },
  {
   "cell_type": "code",
   "execution_count": 9,
   "metadata": {
    "collapsed": false
   },
   "outputs": [
    {
     "data": {
      "text/plain": [
       "4.323929245283021"
      ]
     },
     "execution_count": 9,
     "metadata": {},
     "output_type": "execute_result"
    }
   ],
   "source": [
    "df.loc[df['diagnosis'] == 'M']['smoothness_mean'].mean()"
   ]
  },
  {
   "cell_type": "code",
   "execution_count": 10,
   "metadata": {
    "collapsed": false
   },
   "outputs": [
    {
     "data": {
      "text/plain": [
       "2.5685456540541707"
      ]
     },
     "execution_count": 10,
     "metadata": {},
     "output_type": "execute_result"
    }
   ],
   "source": [
    "df.loc[df['diagnosis'] == 'M']['smoothness_mean'].std()"
   ]
  },
  {
   "cell_type": "code",
   "execution_count": 11,
   "metadata": {
    "collapsed": false
   },
   "outputs": [
    {
     "data": {
      "text/plain": [
       "2.0003212885154085"
      ]
     },
     "execution_count": 11,
     "metadata": {},
     "output_type": "execute_result"
    }
   ],
   "source": [
    "df.loc[df['diagnosis'] == 'B']['smoothness_mean'].mean()"
   ]
  },
  {
   "cell_type": "code",
   "execution_count": 12,
   "metadata": {
    "collapsed": false
   },
   "outputs": [
    {
     "data": {
      "text/plain": [
       "0.7711692027100456"
      ]
     },
     "execution_count": 12,
     "metadata": {},
     "output_type": "execute_result"
    }
   ],
   "source": [
    "df.loc[df['diagnosis'] == 'B']['smoothness_mean'].std()"
   ]
  },
  {
   "cell_type": "code",
   "execution_count": 13,
   "metadata": {
    "collapsed": false
   },
   "outputs": [
    {
     "data": {
      "text/plain": [
       "3.6795"
      ]
     },
     "execution_count": 13,
     "metadata": {},
     "output_type": "execute_result"
    }
   ],
   "source": [
    "df.loc[df['diagnosis'] == 'M']['smoothness_mean'].median()"
   ]
  },
  {
   "cell_type": "code",
   "execution_count": 14,
   "metadata": {
    "collapsed": false
   },
   "outputs": [
    {
     "data": {
      "text/plain": [
       "1.851"
      ]
     },
     "execution_count": 14,
     "metadata": {},
     "output_type": "execute_result"
    }
   ],
   "source": [
    "df.loc[df['diagnosis'] == 'B']['smoothness_mean'].median()"
   ]
  },
  {
   "cell_type": "code",
   "execution_count": 15,
   "metadata": {
    "collapsed": false
   },
   "outputs": [
    {
     "data": {
      "text/plain": [
       "0.03228116509433961"
      ]
     },
     "execution_count": 15,
     "metadata": {},
     "output_type": "execute_result"
    }
   ],
   "source": [
    "df.loc[df['diagnosis'] == 'M']['compactness_mean'].mean()"
   ]
  },
  {
   "cell_type": "code",
   "execution_count": 16,
   "metadata": {
    "collapsed": false
   },
   "outputs": [
    {
     "data": {
      "text/plain": [
       "0.01838718992099185"
      ]
     },
     "execution_count": 16,
     "metadata": {},
     "output_type": "execute_result"
    }
   ],
   "source": [
    "df.loc[df['diagnosis'] == 'M']['compactness_mean'].std()"
   ]
  },
  {
   "cell_type": "code",
   "execution_count": 17,
   "metadata": {
    "collapsed": false
   },
   "outputs": [
    {
     "data": {
      "text/plain": [
       "0.02143824649859945"
      ]
     },
     "execution_count": 17,
     "metadata": {},
     "output_type": "execute_result"
    }
   ],
   "source": [
    "df.loc[df['diagnosis'] == 'B']['compactness_mean'].mean()"
   ]
  },
  {
   "cell_type": "code",
   "execution_count": 18,
   "metadata": {
    "collapsed": false
   },
   "outputs": [
    {
     "data": {
      "text/plain": [
       "0.01635151136043786"
      ]
     },
     "execution_count": 18,
     "metadata": {},
     "output_type": "execute_result"
    }
   ],
   "source": [
    "df.loc[df['diagnosis'] == 'B']['compactness_mean'].std()"
   ]
  },
  {
   "cell_type": "code",
   "execution_count": 19,
   "metadata": {
    "collapsed": false
   },
   "outputs": [
    {
     "data": {
      "text/plain": [
       "0.02859"
      ]
     },
     "execution_count": 19,
     "metadata": {},
     "output_type": "execute_result"
    }
   ],
   "source": [
    "df.loc[df['diagnosis'] == 'M']['compactness_mean'].median()"
   ]
  },
  {
   "cell_type": "code",
   "execution_count": 20,
   "metadata": {
    "collapsed": false
   },
   "outputs": [
    {
     "data": {
      "text/plain": [
       "0.016309999999999998"
      ]
     },
     "execution_count": 20,
     "metadata": {},
     "output_type": "execute_result"
    }
   ],
   "source": [
    "df.loc[df['diagnosis'] == 'B']['compactness_mean'].median()"
   ]
  },
  {
   "cell_type": "markdown",
   "metadata": {},
   "source": [
    "# Random Sample"
   ]
  },
  {
   "cell_type": "code",
   "execution_count": 21,
   "metadata": {
    "collapsed": true
   },
   "outputs": [],
   "source": [
    "# Transform the data to a format our regressions can read.\n",
    "df['diagnosis'] = df['diagnosis'].replace('M', 1)\n",
    "df['diagnosis'] = df['diagnosis'].replace('B', 0)"
   ]
  },
  {
   "cell_type": "code",
   "execution_count": 40,
   "metadata": {
    "collapsed": true
   },
   "outputs": [],
   "source": [
    "def sampler(sample, percent, train, test):\n",
    "    msk = np.random.rand(len(sample)) < percent\n",
    "    train = sample[msk]\n",
    "    test = sample[msk]"
   ]
  },
  {
   "cell_type": "code",
   "execution_count": 41,
   "metadata": {
    "collapsed": true
   },
   "outputs": [],
   "source": [
    "sampler(df, 0.8, train, test)"
   ]
  },
  {
   "cell_type": "code",
   "execution_count": 22,
   "metadata": {
    "collapsed": false
   },
   "outputs": [],
   "source": [
    "msk = np.random.rand(len(df)) < 0.8\n",
    "\n",
    "train = df[msk]\n",
    "\n",
    "test = df[~msk]\n",
    "X_train = train.drop(['diagnosis', 'ID'], 1)\n",
    "y_train = train['diagnosis']\n",
    "X_test = test.drop(['diagnosis', 'ID'], 1)\n",
    "y_test = test['diagnosis']"
   ]
  },
  {
   "cell_type": "markdown",
   "metadata": {},
   "source": [
    "# Decision Tree"
   ]
  },
  {
   "cell_type": "code",
   "execution_count": 23,
   "metadata": {
    "collapsed": true
   },
   "outputs": [],
   "source": [
    "clf = tree.DecisionTreeClassifier()"
   ]
  },
  {
   "cell_type": "code",
   "execution_count": 24,
   "metadata": {
    "collapsed": false
   },
   "outputs": [],
   "source": [
    "clf = clf.fit(X_train, y_train)"
   ]
  },
  {
   "cell_type": "code",
   "execution_count": 25,
   "metadata": {
    "collapsed": false
   },
   "outputs": [
    {
     "data": {
      "image/svg+xml": [
       "<?xml version=\"1.0\" encoding=\"UTF-8\" standalone=\"no\"?>\n",
       "<!DOCTYPE svg PUBLIC \"-//W3C//DTD SVG 1.1//EN\"\n",
       " \"http://www.w3.org/Graphics/SVG/1.1/DTD/svg11.dtd\">\n",
       "<!-- Generated by graphviz version 2.38.0 (20140413.2041)\n",
       " -->\n",
       "<!-- Title: Tree Pages: 1 -->\n",
       "<svg width=\"1382pt\" height=\"893pt\"\n",
       " viewBox=\"0.00 0.00 1382.00 893.00\" xmlns=\"http://www.w3.org/2000/svg\" xmlns:xlink=\"http://www.w3.org/1999/xlink\">\n",
       "<g id=\"graph0\" class=\"graph\" transform=\"scale(1 1) rotate(0) translate(4 889)\">\n",
       "<title>Tree</title>\n",
       "<polygon fill=\"white\" stroke=\"none\" points=\"-4,4 -4,-889 1378,-889 1378,4 -4,4\"/>\n",
       "<!-- 0 -->\n",
       "<g id=\"node1\" class=\"node\"><title>0</title>\n",
       "<polygon fill=\"none\" stroke=\"black\" points=\"894.5,-885 775.5,-885 775.5,-817 894.5,-817 894.5,-885\"/>\n",
       "<text text-anchor=\"middle\" x=\"835\" y=\"-869.8\" font-family=\"Times,serif\" font-size=\"14.00\">X[22] &lt;= 106.1</text>\n",
       "<text text-anchor=\"middle\" x=\"835\" y=\"-854.8\" font-family=\"Times,serif\" font-size=\"14.00\">gini = 0.4669</text>\n",
       "<text text-anchor=\"middle\" x=\"835\" y=\"-839.8\" font-family=\"Times,serif\" font-size=\"14.00\">samples = 455</text>\n",
       "<text text-anchor=\"middle\" x=\"835\" y=\"-824.8\" font-family=\"Times,serif\" font-size=\"14.00\">value = [286, 169]</text>\n",
       "</g>\n",
       "<!-- 1 -->\n",
       "<g id=\"node2\" class=\"node\"><title>1</title>\n",
       "<polygon fill=\"none\" stroke=\"black\" points=\"804,-781 692,-781 692,-713 804,-713 804,-781\"/>\n",
       "<text text-anchor=\"middle\" x=\"748\" y=\"-765.8\" font-family=\"Times,serif\" font-size=\"14.00\">X[27] &lt;= 0.1589</text>\n",
       "<text text-anchor=\"middle\" x=\"748\" y=\"-750.8\" font-family=\"Times,serif\" font-size=\"14.00\">gini = 0.0885</text>\n",
       "<text text-anchor=\"middle\" x=\"748\" y=\"-735.8\" font-family=\"Times,serif\" font-size=\"14.00\">samples = 280</text>\n",
       "<text text-anchor=\"middle\" x=\"748\" y=\"-720.8\" font-family=\"Times,serif\" font-size=\"14.00\">value = [267, 13]</text>\n",
       "</g>\n",
       "<!-- 0&#45;&gt;1 -->\n",
       "<g id=\"edge1\" class=\"edge\"><title>0&#45;&gt;1</title>\n",
       "<path fill=\"none\" stroke=\"black\" d=\"M806.754,-816.884C799.156,-807.976 790.848,-798.235 782.934,-788.957\"/>\n",
       "<polygon fill=\"black\" stroke=\"black\" points=\"785.555,-786.636 776.402,-781.299 780.229,-791.179 785.555,-786.636\"/>\n",
       "<text text-anchor=\"middle\" x=\"774.424\" y=\"-802.521\" font-family=\"Times,serif\" font-size=\"14.00\">True</text>\n",
       "</g>\n",
       "<!-- 24 -->\n",
       "<g id=\"node25\" class=\"node\"><title>24</title>\n",
       "<polygon fill=\"none\" stroke=\"black\" points=\"978,-781 866,-781 866,-713 978,-713 978,-781\"/>\n",
       "<text text-anchor=\"middle\" x=\"922\" y=\"-765.8\" font-family=\"Times,serif\" font-size=\"14.00\">X[7] &lt;= 0.0489</text>\n",
       "<text text-anchor=\"middle\" x=\"922\" y=\"-750.8\" font-family=\"Times,serif\" font-size=\"14.00\">gini = 0.1936</text>\n",
       "<text text-anchor=\"middle\" x=\"922\" y=\"-735.8\" font-family=\"Times,serif\" font-size=\"14.00\">samples = 175</text>\n",
       "<text text-anchor=\"middle\" x=\"922\" y=\"-720.8\" font-family=\"Times,serif\" font-size=\"14.00\">value = [19, 156]</text>\n",
       "</g>\n",
       "<!-- 0&#45;&gt;24 -->\n",
       "<g id=\"edge24\" class=\"edge\"><title>0&#45;&gt;24</title>\n",
       "<path fill=\"none\" stroke=\"black\" d=\"M863.246,-816.884C870.844,-807.976 879.152,-798.235 887.066,-788.957\"/>\n",
       "<polygon fill=\"black\" stroke=\"black\" points=\"889.771,-791.179 893.598,-781.299 884.445,-786.636 889.771,-791.179\"/>\n",
       "<text text-anchor=\"middle\" x=\"895.576\" y=\"-802.521\" font-family=\"Times,serif\" font-size=\"14.00\">False</text>\n",
       "</g>\n",
       "<!-- 2 -->\n",
       "<g id=\"node3\" class=\"node\"><title>2</title>\n",
       "<polygon fill=\"none\" stroke=\"black\" points=\"634,-677 524,-677 524,-609 634,-609 634,-677\"/>\n",
       "<text text-anchor=\"middle\" x=\"579\" y=\"-661.8\" font-family=\"Times,serif\" font-size=\"14.00\">X[10] &lt;= 1.0475</text>\n",
       "<text text-anchor=\"middle\" x=\"579\" y=\"-646.8\" font-family=\"Times,serif\" font-size=\"14.00\">gini = 0.0364</text>\n",
       "<text text-anchor=\"middle\" x=\"579\" y=\"-631.8\" font-family=\"Times,serif\" font-size=\"14.00\">samples = 270</text>\n",
       "<text text-anchor=\"middle\" x=\"579\" y=\"-616.8\" font-family=\"Times,serif\" font-size=\"14.00\">value = [265, 5]</text>\n",
       "</g>\n",
       "<!-- 1&#45;&gt;2 -->\n",
       "<g id=\"edge2\" class=\"edge\"><title>1&#45;&gt;2</title>\n",
       "<path fill=\"none\" stroke=\"black\" d=\"M693.131,-712.884C676.962,-703.125 659.136,-692.366 642.475,-682.31\"/>\n",
       "<polygon fill=\"black\" stroke=\"black\" points=\"644.253,-679.296 633.883,-677.125 640.636,-685.289 644.253,-679.296\"/>\n",
       "</g>\n",
       "<!-- 21 -->\n",
       "<g id=\"node22\" class=\"node\"><title>21</title>\n",
       "<polygon fill=\"none\" stroke=\"black\" points=\"800,-677 696,-677 696,-609 800,-609 800,-677\"/>\n",
       "<text text-anchor=\"middle\" x=\"748\" y=\"-661.8\" font-family=\"Times,serif\" font-size=\"14.00\">X[21] &lt;= 23.47</text>\n",
       "<text text-anchor=\"middle\" x=\"748\" y=\"-646.8\" font-family=\"Times,serif\" font-size=\"14.00\">gini = 0.32</text>\n",
       "<text text-anchor=\"middle\" x=\"748\" y=\"-631.8\" font-family=\"Times,serif\" font-size=\"14.00\">samples = 10</text>\n",
       "<text text-anchor=\"middle\" x=\"748\" y=\"-616.8\" font-family=\"Times,serif\" font-size=\"14.00\">value = [2, 8]</text>\n",
       "</g>\n",
       "<!-- 1&#45;&gt;21 -->\n",
       "<g id=\"edge21\" class=\"edge\"><title>1&#45;&gt;21</title>\n",
       "<path fill=\"none\" stroke=\"black\" d=\"M748,-712.884C748,-704.778 748,-695.982 748,-687.472\"/>\n",
       "<polygon fill=\"black\" stroke=\"black\" points=\"751.5,-687.299 748,-677.299 744.5,-687.299 751.5,-687.299\"/>\n",
       "</g>\n",
       "<!-- 3 -->\n",
       "<g id=\"node4\" class=\"node\"><title>3</title>\n",
       "<polygon fill=\"none\" stroke=\"black\" points=\"514.5,-573 409.5,-573 409.5,-505 514.5,-505 514.5,-573\"/>\n",
       "<text text-anchor=\"middle\" x=\"462\" y=\"-557.8\" font-family=\"Times,serif\" font-size=\"14.00\">X[21] &lt;= 38.82</text>\n",
       "<text text-anchor=\"middle\" x=\"462\" y=\"-542.8\" font-family=\"Times,serif\" font-size=\"14.00\">gini = 0.0293</text>\n",
       "<text text-anchor=\"middle\" x=\"462\" y=\"-527.8\" font-family=\"Times,serif\" font-size=\"14.00\">samples = 269</text>\n",
       "<text text-anchor=\"middle\" x=\"462\" y=\"-512.8\" font-family=\"Times,serif\" font-size=\"14.00\">value = [265, 4]</text>\n",
       "</g>\n",
       "<!-- 2&#45;&gt;3 -->\n",
       "<g id=\"edge3\" class=\"edge\"><title>2&#45;&gt;3</title>\n",
       "<path fill=\"none\" stroke=\"black\" d=\"M541.013,-608.884C530.49,-599.709 518.952,-589.65 508.023,-580.123\"/>\n",
       "<polygon fill=\"black\" stroke=\"black\" points=\"510.034,-577.233 500.196,-573.299 505.434,-582.509 510.034,-577.233\"/>\n",
       "</g>\n",
       "<!-- 20 -->\n",
       "<g id=\"node21\" class=\"node\"><title>20</title>\n",
       "<polygon fill=\"none\" stroke=\"black\" points=\"625,-565.5 533,-565.5 533,-512.5 625,-512.5 625,-565.5\"/>\n",
       "<text text-anchor=\"middle\" x=\"579\" y=\"-550.3\" font-family=\"Times,serif\" font-size=\"14.00\">gini = 0.0</text>\n",
       "<text text-anchor=\"middle\" x=\"579\" y=\"-535.3\" font-family=\"Times,serif\" font-size=\"14.00\">samples = 1</text>\n",
       "<text text-anchor=\"middle\" x=\"579\" y=\"-520.3\" font-family=\"Times,serif\" font-size=\"14.00\">value = [0, 1]</text>\n",
       "</g>\n",
       "<!-- 2&#45;&gt;20 -->\n",
       "<g id=\"edge20\" class=\"edge\"><title>2&#45;&gt;20</title>\n",
       "<path fill=\"none\" stroke=\"black\" d=\"M579,-608.884C579,-598.326 579,-586.597 579,-575.854\"/>\n",
       "<polygon fill=\"black\" stroke=\"black\" points=\"582.5,-575.52 579,-565.52 575.5,-575.52 582.5,-575.52\"/>\n",
       "</g>\n",
       "<!-- 4 -->\n",
       "<g id=\"node5\" class=\"node\"><title>4</title>\n",
       "<polygon fill=\"none\" stroke=\"black\" points=\"455,-469 345,-469 345,-401 455,-401 455,-469\"/>\n",
       "<text text-anchor=\"middle\" x=\"400\" y=\"-453.8\" font-family=\"Times,serif\" font-size=\"14.00\">X[10] &lt;= 0.6431</text>\n",
       "<text text-anchor=\"middle\" x=\"400\" y=\"-438.8\" font-family=\"Times,serif\" font-size=\"14.00\">gini = 0.0222</text>\n",
       "<text text-anchor=\"middle\" x=\"400\" y=\"-423.8\" font-family=\"Times,serif\" font-size=\"14.00\">samples = 267</text>\n",
       "<text text-anchor=\"middle\" x=\"400\" y=\"-408.8\" font-family=\"Times,serif\" font-size=\"14.00\">value = [264, 3]</text>\n",
       "</g>\n",
       "<!-- 3&#45;&gt;4 -->\n",
       "<g id=\"edge4\" class=\"edge\"><title>3&#45;&gt;4</title>\n",
       "<path fill=\"none\" stroke=\"black\" d=\"M441.87,-504.884C436.673,-496.332 431.008,-487.013 425.573,-478.072\"/>\n",
       "<polygon fill=\"black\" stroke=\"black\" points=\"428.426,-476.027 420.241,-469.299 422.444,-479.663 428.426,-476.027\"/>\n",
       "</g>\n",
       "<!-- 17 -->\n",
       "<g id=\"node18\" class=\"node\"><title>17</title>\n",
       "<polygon fill=\"none\" stroke=\"black\" points=\"577,-469 473,-469 473,-401 577,-401 577,-469\"/>\n",
       "<text text-anchor=\"middle\" x=\"525\" y=\"-453.8\" font-family=\"Times,serif\" font-size=\"14.00\">X[4] &lt;= 0.0928</text>\n",
       "<text text-anchor=\"middle\" x=\"525\" y=\"-438.8\" font-family=\"Times,serif\" font-size=\"14.00\">gini = 0.5</text>\n",
       "<text text-anchor=\"middle\" x=\"525\" y=\"-423.8\" font-family=\"Times,serif\" font-size=\"14.00\">samples = 2</text>\n",
       "<text text-anchor=\"middle\" x=\"525\" y=\"-408.8\" font-family=\"Times,serif\" font-size=\"14.00\">value = [1, 1]</text>\n",
       "</g>\n",
       "<!-- 3&#45;&gt;17 -->\n",
       "<g id=\"edge17\" class=\"edge\"><title>3&#45;&gt;17</title>\n",
       "<path fill=\"none\" stroke=\"black\" d=\"M482.454,-504.884C487.736,-496.332 493.492,-487.013 499.014,-478.072\"/>\n",
       "<polygon fill=\"black\" stroke=\"black\" points=\"502.156,-479.647 504.433,-469.299 496.2,-475.968 502.156,-479.647\"/>\n",
       "</g>\n",
       "<!-- 5 -->\n",
       "<g id=\"node6\" class=\"node\"><title>5</title>\n",
       "<polygon fill=\"none\" stroke=\"black\" points=\"329,-365 219,-365 219,-297 329,-297 329,-365\"/>\n",
       "<text text-anchor=\"middle\" x=\"274\" y=\"-349.8\" font-family=\"Times,serif\" font-size=\"14.00\">X[14] &lt;= 0.0033</text>\n",
       "<text text-anchor=\"middle\" x=\"274\" y=\"-334.8\" font-family=\"Times,serif\" font-size=\"14.00\">gini = 0.0151</text>\n",
       "<text text-anchor=\"middle\" x=\"274\" y=\"-319.8\" font-family=\"Times,serif\" font-size=\"14.00\">samples = 263</text>\n",
       "<text text-anchor=\"middle\" x=\"274\" y=\"-304.8\" font-family=\"Times,serif\" font-size=\"14.00\">value = [261, 2]</text>\n",
       "</g>\n",
       "<!-- 4&#45;&gt;5 -->\n",
       "<g id=\"edge5\" class=\"edge\"><title>4&#45;&gt;5</title>\n",
       "<path fill=\"none\" stroke=\"black\" d=\"M359.091,-400.884C347.648,-391.62 335.091,-381.455 323.221,-371.845\"/>\n",
       "<polygon fill=\"black\" stroke=\"black\" points=\"325.109,-368.871 315.135,-365.299 320.705,-374.312 325.109,-368.871\"/>\n",
       "</g>\n",
       "<!-- 14 -->\n",
       "<g id=\"node15\" class=\"node\"><title>14</title>\n",
       "<polygon fill=\"none\" stroke=\"black\" points=\"457,-365 347,-365 347,-297 457,-297 457,-365\"/>\n",
       "<text text-anchor=\"middle\" x=\"402\" y=\"-349.8\" font-family=\"Times,serif\" font-size=\"14.00\">X[10] &lt;= 0.6881</text>\n",
       "<text text-anchor=\"middle\" x=\"402\" y=\"-334.8\" font-family=\"Times,serif\" font-size=\"14.00\">gini = 0.375</text>\n",
       "<text text-anchor=\"middle\" x=\"402\" y=\"-319.8\" font-family=\"Times,serif\" font-size=\"14.00\">samples = 4</text>\n",
       "<text text-anchor=\"middle\" x=\"402\" y=\"-304.8\" font-family=\"Times,serif\" font-size=\"14.00\">value = [3, 1]</text>\n",
       "</g>\n",
       "<!-- 4&#45;&gt;14 -->\n",
       "<g id=\"edge14\" class=\"edge\"><title>4&#45;&gt;14</title>\n",
       "<path fill=\"none\" stroke=\"black\" d=\"M400.649,-400.884C400.808,-392.778 400.981,-383.982 401.148,-375.472\"/>\n",
       "<polygon fill=\"black\" stroke=\"black\" points=\"404.65,-375.366 401.347,-365.299 397.652,-375.229 404.65,-375.366\"/>\n",
       "</g>\n",
       "<!-- 6 -->\n",
       "<g id=\"node7\" class=\"node\"><title>6</title>\n",
       "<polygon fill=\"none\" stroke=\"black\" points=\"206,-261 102,-261 102,-193 206,-193 206,-261\"/>\n",
       "<text text-anchor=\"middle\" x=\"154\" y=\"-245.8\" font-family=\"Times,serif\" font-size=\"14.00\">X[1] &lt;= 19.875</text>\n",
       "<text text-anchor=\"middle\" x=\"154\" y=\"-230.8\" font-family=\"Times,serif\" font-size=\"14.00\">gini = 0.2778</text>\n",
       "<text text-anchor=\"middle\" x=\"154\" y=\"-215.8\" font-family=\"Times,serif\" font-size=\"14.00\">samples = 6</text>\n",
       "<text text-anchor=\"middle\" x=\"154\" y=\"-200.8\" font-family=\"Times,serif\" font-size=\"14.00\">value = [5, 1]</text>\n",
       "</g>\n",
       "<!-- 5&#45;&gt;6 -->\n",
       "<g id=\"edge6\" class=\"edge\"><title>5&#45;&gt;6</title>\n",
       "<path fill=\"none\" stroke=\"black\" d=\"M235.039,-296.884C224.141,-287.62 212.182,-277.455 200.877,-267.845\"/>\n",
       "<polygon fill=\"black\" stroke=\"black\" points=\"203.062,-265.109 193.176,-261.299 198.528,-270.443 203.062,-265.109\"/>\n",
       "</g>\n",
       "<!-- 9 -->\n",
       "<g id=\"node10\" class=\"node\"><title>9</title>\n",
       "<polygon fill=\"none\" stroke=\"black\" points=\"329.5,-261 224.5,-261 224.5,-193 329.5,-193 329.5,-261\"/>\n",
       "<text text-anchor=\"middle\" x=\"277\" y=\"-245.8\" font-family=\"Times,serif\" font-size=\"14.00\">X[21] &lt;= 33.35</text>\n",
       "<text text-anchor=\"middle\" x=\"277\" y=\"-230.8\" font-family=\"Times,serif\" font-size=\"14.00\">gini = 0.0078</text>\n",
       "<text text-anchor=\"middle\" x=\"277\" y=\"-215.8\" font-family=\"Times,serif\" font-size=\"14.00\">samples = 257</text>\n",
       "<text text-anchor=\"middle\" x=\"277\" y=\"-200.8\" font-family=\"Times,serif\" font-size=\"14.00\">value = [256, 1]</text>\n",
       "</g>\n",
       "<!-- 5&#45;&gt;9 -->\n",
       "<g id=\"edge9\" class=\"edge\"><title>5&#45;&gt;9</title>\n",
       "<path fill=\"none\" stroke=\"black\" d=\"M274.974,-296.884C275.212,-288.778 275.471,-279.982 275.721,-271.472\"/>\n",
       "<polygon fill=\"black\" stroke=\"black\" points=\"279.225,-271.398 276.021,-261.299 272.228,-271.192 279.225,-271.398\"/>\n",
       "</g>\n",
       "<!-- 7 -->\n",
       "<g id=\"node8\" class=\"node\"><title>7</title>\n",
       "<polygon fill=\"none\" stroke=\"black\" points=\"92,-149.5 0,-149.5 0,-96.5 92,-96.5 92,-149.5\"/>\n",
       "<text text-anchor=\"middle\" x=\"46\" y=\"-134.3\" font-family=\"Times,serif\" font-size=\"14.00\">gini = 0.0</text>\n",
       "<text text-anchor=\"middle\" x=\"46\" y=\"-119.3\" font-family=\"Times,serif\" font-size=\"14.00\">samples = 5</text>\n",
       "<text text-anchor=\"middle\" x=\"46\" y=\"-104.3\" font-family=\"Times,serif\" font-size=\"14.00\">value = [5, 0]</text>\n",
       "</g>\n",
       "<!-- 6&#45;&gt;7 -->\n",
       "<g id=\"edge7\" class=\"edge\"><title>6&#45;&gt;7</title>\n",
       "<path fill=\"none\" stroke=\"black\" d=\"M118.935,-192.884C106.592,-181.226 92.7371,-168.141 80.4451,-156.532\"/>\n",
       "<polygon fill=\"black\" stroke=\"black\" points=\"82.6945,-153.842 73.0211,-149.52 77.8881,-158.931 82.6945,-153.842\"/>\n",
       "</g>\n",
       "<!-- 8 -->\n",
       "<g id=\"node9\" class=\"node\"><title>8</title>\n",
       "<polygon fill=\"none\" stroke=\"black\" points=\"202,-149.5 110,-149.5 110,-96.5 202,-96.5 202,-149.5\"/>\n",
       "<text text-anchor=\"middle\" x=\"156\" y=\"-134.3\" font-family=\"Times,serif\" font-size=\"14.00\">gini = 0.0</text>\n",
       "<text text-anchor=\"middle\" x=\"156\" y=\"-119.3\" font-family=\"Times,serif\" font-size=\"14.00\">samples = 1</text>\n",
       "<text text-anchor=\"middle\" x=\"156\" y=\"-104.3\" font-family=\"Times,serif\" font-size=\"14.00\">value = [0, 1]</text>\n",
       "</g>\n",
       "<!-- 6&#45;&gt;8 -->\n",
       "<g id=\"edge8\" class=\"edge\"><title>6&#45;&gt;8</title>\n",
       "<path fill=\"none\" stroke=\"black\" d=\"M154.649,-192.884C154.859,-182.216 155.091,-170.352 155.304,-159.519\"/>\n",
       "<polygon fill=\"black\" stroke=\"black\" points=\"158.803,-159.587 155.5,-149.52 151.804,-159.449 158.803,-159.587\"/>\n",
       "</g>\n",
       "<!-- 10 -->\n",
       "<g id=\"node11\" class=\"node\"><title>10</title>\n",
       "<polygon fill=\"none\" stroke=\"black\" points=\"328.5,-149.5 223.5,-149.5 223.5,-96.5 328.5,-96.5 328.5,-149.5\"/>\n",
       "<text text-anchor=\"middle\" x=\"276\" y=\"-134.3\" font-family=\"Times,serif\" font-size=\"14.00\">gini = 0.0</text>\n",
       "<text text-anchor=\"middle\" x=\"276\" y=\"-119.3\" font-family=\"Times,serif\" font-size=\"14.00\">samples = 243</text>\n",
       "<text text-anchor=\"middle\" x=\"276\" y=\"-104.3\" font-family=\"Times,serif\" font-size=\"14.00\">value = [243, 0]</text>\n",
       "</g>\n",
       "<!-- 9&#45;&gt;10 -->\n",
       "<g id=\"edge10\" class=\"edge\"><title>9&#45;&gt;10</title>\n",
       "<path fill=\"none\" stroke=\"black\" d=\"M276.675,-192.884C276.572,-182.326 276.457,-170.597 276.352,-159.854\"/>\n",
       "<polygon fill=\"black\" stroke=\"black\" points=\"279.848,-159.485 276.25,-149.52 272.848,-159.554 279.848,-159.485\"/>\n",
       "</g>\n",
       "<!-- 11 -->\n",
       "<g id=\"node12\" class=\"node\"><title>11</title>\n",
       "<polygon fill=\"none\" stroke=\"black\" points=\"457,-157 347,-157 347,-89 457,-89 457,-157\"/>\n",
       "<text text-anchor=\"middle\" x=\"402\" y=\"-141.8\" font-family=\"Times,serif\" font-size=\"14.00\">X[27] &lt;= 0.0923</text>\n",
       "<text text-anchor=\"middle\" x=\"402\" y=\"-126.8\" font-family=\"Times,serif\" font-size=\"14.00\">gini = 0.1327</text>\n",
       "<text text-anchor=\"middle\" x=\"402\" y=\"-111.8\" font-family=\"Times,serif\" font-size=\"14.00\">samples = 14</text>\n",
       "<text text-anchor=\"middle\" x=\"402\" y=\"-96.8\" font-family=\"Times,serif\" font-size=\"14.00\">value = [13, 1]</text>\n",
       "</g>\n",
       "<!-- 9&#45;&gt;11 -->\n",
       "<g id=\"edge11\" class=\"edge\"><title>9&#45;&gt;11</title>\n",
       "<path fill=\"none\" stroke=\"black\" d=\"M317.584,-192.884C328.936,-183.62 341.394,-173.455 353.17,-163.845\"/>\n",
       "<polygon fill=\"black\" stroke=\"black\" points=\"355.657,-166.333 361.192,-157.299 351.231,-160.91 355.657,-166.333\"/>\n",
       "</g>\n",
       "<!-- 12 -->\n",
       "<g id=\"node13\" class=\"node\"><title>12</title>\n",
       "<polygon fill=\"none\" stroke=\"black\" points=\"394,-53 296,-53 296,-0 394,-0 394,-53\"/>\n",
       "<text text-anchor=\"middle\" x=\"345\" y=\"-37.8\" font-family=\"Times,serif\" font-size=\"14.00\">gini = 0.0</text>\n",
       "<text text-anchor=\"middle\" x=\"345\" y=\"-22.8\" font-family=\"Times,serif\" font-size=\"14.00\">samples = 13</text>\n",
       "<text text-anchor=\"middle\" x=\"345\" y=\"-7.8\" font-family=\"Times,serif\" font-size=\"14.00\">value = [13, 0]</text>\n",
       "</g>\n",
       "<!-- 11&#45;&gt;12 -->\n",
       "<g id=\"edge12\" class=\"edge\"><title>11&#45;&gt;12</title>\n",
       "<path fill=\"none\" stroke=\"black\" d=\"M382.064,-88.9485C376.767,-80.1664 371.035,-70.6629 365.698,-61.815\"/>\n",
       "<polygon fill=\"black\" stroke=\"black\" points=\"368.686,-59.9919 360.524,-53.2367 362.692,-63.6074 368.686,-59.9919\"/>\n",
       "</g>\n",
       "<!-- 13 -->\n",
       "<g id=\"node14\" class=\"node\"><title>13</title>\n",
       "<polygon fill=\"none\" stroke=\"black\" points=\"504,-53 412,-53 412,-0 504,-0 504,-53\"/>\n",
       "<text text-anchor=\"middle\" x=\"458\" y=\"-37.8\" font-family=\"Times,serif\" font-size=\"14.00\">gini = 0.0</text>\n",
       "<text text-anchor=\"middle\" x=\"458\" y=\"-22.8\" font-family=\"Times,serif\" font-size=\"14.00\">samples = 1</text>\n",
       "<text text-anchor=\"middle\" x=\"458\" y=\"-7.8\" font-family=\"Times,serif\" font-size=\"14.00\">value = [0, 1]</text>\n",
       "</g>\n",
       "<!-- 11&#45;&gt;13 -->\n",
       "<g id=\"edge13\" class=\"edge\"><title>11&#45;&gt;13</title>\n",
       "<path fill=\"none\" stroke=\"black\" d=\"M421.586,-88.9485C426.736,-80.2579 432.305,-70.8608 437.501,-62.0917\"/>\n",
       "<polygon fill=\"black\" stroke=\"black\" points=\"440.662,-63.624 442.749,-53.2367 434.64,-60.0553 440.662,-63.624\"/>\n",
       "</g>\n",
       "<!-- 15 -->\n",
       "<g id=\"node16\" class=\"node\"><title>15</title>\n",
       "<polygon fill=\"none\" stroke=\"black\" points=\"445,-253.5 353,-253.5 353,-200.5 445,-200.5 445,-253.5\"/>\n",
       "<text text-anchor=\"middle\" x=\"399\" y=\"-238.3\" font-family=\"Times,serif\" font-size=\"14.00\">gini = 0.0</text>\n",
       "<text text-anchor=\"middle\" x=\"399\" y=\"-223.3\" font-family=\"Times,serif\" font-size=\"14.00\">samples = 1</text>\n",
       "<text text-anchor=\"middle\" x=\"399\" y=\"-208.3\" font-family=\"Times,serif\" font-size=\"14.00\">value = [0, 1]</text>\n",
       "</g>\n",
       "<!-- 14&#45;&gt;15 -->\n",
       "<g id=\"edge15\" class=\"edge\"><title>14&#45;&gt;15</title>\n",
       "<path fill=\"none\" stroke=\"black\" d=\"M401.026,-296.884C400.712,-286.216 400.363,-274.352 400.045,-263.519\"/>\n",
       "<polygon fill=\"black\" stroke=\"black\" points=\"403.543,-263.413 399.751,-253.52 396.546,-263.619 403.543,-263.413\"/>\n",
       "</g>\n",
       "<!-- 16 -->\n",
       "<g id=\"node17\" class=\"node\"><title>16</title>\n",
       "<polygon fill=\"none\" stroke=\"black\" points=\"555,-253.5 463,-253.5 463,-200.5 555,-200.5 555,-253.5\"/>\n",
       "<text text-anchor=\"middle\" x=\"509\" y=\"-238.3\" font-family=\"Times,serif\" font-size=\"14.00\">gini = 0.0</text>\n",
       "<text text-anchor=\"middle\" x=\"509\" y=\"-223.3\" font-family=\"Times,serif\" font-size=\"14.00\">samples = 3</text>\n",
       "<text text-anchor=\"middle\" x=\"509\" y=\"-208.3\" font-family=\"Times,serif\" font-size=\"14.00\">value = [3, 0]</text>\n",
       "</g>\n",
       "<!-- 14&#45;&gt;16 -->\n",
       "<g id=\"edge16\" class=\"edge\"><title>14&#45;&gt;16</title>\n",
       "<path fill=\"none\" stroke=\"black\" d=\"M436.74,-296.884C448.969,-285.226 462.696,-272.141 474.874,-260.532\"/>\n",
       "<polygon fill=\"black\" stroke=\"black\" points=\"477.406,-262.953 482.229,-253.52 472.576,-257.887 477.406,-262.953\"/>\n",
       "</g>\n",
       "<!-- 18 -->\n",
       "<g id=\"node19\" class=\"node\"><title>18</title>\n",
       "<polygon fill=\"none\" stroke=\"black\" points=\"570,-357.5 478,-357.5 478,-304.5 570,-304.5 570,-357.5\"/>\n",
       "<text text-anchor=\"middle\" x=\"524\" y=\"-342.3\" font-family=\"Times,serif\" font-size=\"14.00\">gini = 0.0</text>\n",
       "<text text-anchor=\"middle\" x=\"524\" y=\"-327.3\" font-family=\"Times,serif\" font-size=\"14.00\">samples = 1</text>\n",
       "<text text-anchor=\"middle\" x=\"524\" y=\"-312.3\" font-family=\"Times,serif\" font-size=\"14.00\">value = [1, 0]</text>\n",
       "</g>\n",
       "<!-- 17&#45;&gt;18 -->\n",
       "<g id=\"edge18\" class=\"edge\"><title>17&#45;&gt;18</title>\n",
       "<path fill=\"none\" stroke=\"black\" d=\"M524.675,-400.884C524.572,-390.326 524.457,-378.597 524.352,-367.854\"/>\n",
       "<polygon fill=\"black\" stroke=\"black\" points=\"527.848,-367.485 524.25,-357.52 520.848,-367.554 527.848,-367.485\"/>\n",
       "</g>\n",
       "<!-- 19 -->\n",
       "<g id=\"node20\" class=\"node\"><title>19</title>\n",
       "<polygon fill=\"none\" stroke=\"black\" points=\"680,-357.5 588,-357.5 588,-304.5 680,-304.5 680,-357.5\"/>\n",
       "<text text-anchor=\"middle\" x=\"634\" y=\"-342.3\" font-family=\"Times,serif\" font-size=\"14.00\">gini = 0.0</text>\n",
       "<text text-anchor=\"middle\" x=\"634\" y=\"-327.3\" font-family=\"Times,serif\" font-size=\"14.00\">samples = 1</text>\n",
       "<text text-anchor=\"middle\" x=\"634\" y=\"-312.3\" font-family=\"Times,serif\" font-size=\"14.00\">value = [0, 1]</text>\n",
       "</g>\n",
       "<!-- 17&#45;&gt;19 -->\n",
       "<g id=\"edge19\" class=\"edge\"><title>17&#45;&gt;19</title>\n",
       "<path fill=\"none\" stroke=\"black\" d=\"M560.389,-400.884C572.847,-389.226 586.83,-376.141 599.236,-364.532\"/>\n",
       "<polygon fill=\"black\" stroke=\"black\" points=\"601.819,-366.908 606.729,-357.52 597.036,-361.797 601.819,-366.908\"/>\n",
       "</g>\n",
       "<!-- 22 -->\n",
       "<g id=\"node23\" class=\"node\"><title>22</title>\n",
       "<polygon fill=\"none\" stroke=\"black\" points=\"735,-565.5 643,-565.5 643,-512.5 735,-512.5 735,-565.5\"/>\n",
       "<text text-anchor=\"middle\" x=\"689\" y=\"-550.3\" font-family=\"Times,serif\" font-size=\"14.00\">gini = 0.0</text>\n",
       "<text text-anchor=\"middle\" x=\"689\" y=\"-535.3\" font-family=\"Times,serif\" font-size=\"14.00\">samples = 2</text>\n",
       "<text text-anchor=\"middle\" x=\"689\" y=\"-520.3\" font-family=\"Times,serif\" font-size=\"14.00\">value = [2, 0]</text>\n",
       "</g>\n",
       "<!-- 21&#45;&gt;22 -->\n",
       "<g id=\"edge22\" class=\"edge\"><title>21&#45;&gt;22</title>\n",
       "<path fill=\"none\" stroke=\"black\" d=\"M728.844,-608.884C722.419,-597.776 715.245,-585.372 708.773,-574.184\"/>\n",
       "<polygon fill=\"black\" stroke=\"black\" points=\"711.798,-572.424 703.762,-565.52 705.739,-575.929 711.798,-572.424\"/>\n",
       "</g>\n",
       "<!-- 23 -->\n",
       "<g id=\"node24\" class=\"node\"><title>23</title>\n",
       "<polygon fill=\"none\" stroke=\"black\" points=\"845,-565.5 753,-565.5 753,-512.5 845,-512.5 845,-565.5\"/>\n",
       "<text text-anchor=\"middle\" x=\"799\" y=\"-550.3\" font-family=\"Times,serif\" font-size=\"14.00\">gini = 0.0</text>\n",
       "<text text-anchor=\"middle\" x=\"799\" y=\"-535.3\" font-family=\"Times,serif\" font-size=\"14.00\">samples = 8</text>\n",
       "<text text-anchor=\"middle\" x=\"799\" y=\"-520.3\" font-family=\"Times,serif\" font-size=\"14.00\">value = [0, 8]</text>\n",
       "</g>\n",
       "<!-- 21&#45;&gt;23 -->\n",
       "<g id=\"edge23\" class=\"edge\"><title>21&#45;&gt;23</title>\n",
       "<path fill=\"none\" stroke=\"black\" d=\"M764.558,-608.884C770.057,-597.886 776.191,-585.617 781.742,-574.517\"/>\n",
       "<polygon fill=\"black\" stroke=\"black\" points=\"784.898,-576.029 786.24,-565.52 778.637,-572.899 784.898,-576.029\"/>\n",
       "</g>\n",
       "<!-- 25 -->\n",
       "<g id=\"node26\" class=\"node\"><title>25</title>\n",
       "<polygon fill=\"none\" stroke=\"black\" points=\"977,-677 867,-677 867,-609 977,-609 977,-677\"/>\n",
       "<text text-anchor=\"middle\" x=\"922\" y=\"-661.8\" font-family=\"Times,serif\" font-size=\"14.00\">X[17] &lt;= 0.0101</text>\n",
       "<text text-anchor=\"middle\" x=\"922\" y=\"-646.8\" font-family=\"Times,serif\" font-size=\"14.00\">gini = 0.4993</text>\n",
       "<text text-anchor=\"middle\" x=\"922\" y=\"-631.8\" font-family=\"Times,serif\" font-size=\"14.00\">samples = 27</text>\n",
       "<text text-anchor=\"middle\" x=\"922\" y=\"-616.8\" font-family=\"Times,serif\" font-size=\"14.00\">value = [14, 13]</text>\n",
       "</g>\n",
       "<!-- 24&#45;&gt;25 -->\n",
       "<g id=\"edge25\" class=\"edge\"><title>24&#45;&gt;25</title>\n",
       "<path fill=\"none\" stroke=\"black\" d=\"M922,-712.884C922,-704.778 922,-695.982 922,-687.472\"/>\n",
       "<polygon fill=\"black\" stroke=\"black\" points=\"925.5,-687.299 922,-677.299 918.5,-687.299 925.5,-687.299\"/>\n",
       "</g>\n",
       "<!-- 32 -->\n",
       "<g id=\"node33\" class=\"node\"><title>32</title>\n",
       "<polygon fill=\"none\" stroke=\"black\" points=\"1193.5,-677 1088.5,-677 1088.5,-609 1193.5,-609 1193.5,-677\"/>\n",
       "<text text-anchor=\"middle\" x=\"1141\" y=\"-661.8\" font-family=\"Times,serif\" font-size=\"14.00\">X[1] &lt;= 14.12</text>\n",
       "<text text-anchor=\"middle\" x=\"1141\" y=\"-646.8\" font-family=\"Times,serif\" font-size=\"14.00\">gini = 0.0653</text>\n",
       "<text text-anchor=\"middle\" x=\"1141\" y=\"-631.8\" font-family=\"Times,serif\" font-size=\"14.00\">samples = 148</text>\n",
       "<text text-anchor=\"middle\" x=\"1141\" y=\"-616.8\" font-family=\"Times,serif\" font-size=\"14.00\">value = [5, 143]</text>\n",
       "</g>\n",
       "<!-- 24&#45;&gt;32 -->\n",
       "<g id=\"edge32\" class=\"edge\"><title>24&#45;&gt;32</title>\n",
       "<path fill=\"none\" stroke=\"black\" d=\"M978.114,-719.865C1009.03,-705.467 1047.45,-687.569 1079.22,-672.774\"/>\n",
       "<polygon fill=\"black\" stroke=\"black\" points=\"1080.83,-675.884 1088.42,-668.489 1077.88,-669.539 1080.83,-675.884\"/>\n",
       "</g>\n",
       "<!-- 26 -->\n",
       "<g id=\"node27\" class=\"node\"><title>26</title>\n",
       "<polygon fill=\"none\" stroke=\"black\" points=\"967,-573 863,-573 863,-505 967,-505 967,-573\"/>\n",
       "<text text-anchor=\"middle\" x=\"915\" y=\"-557.8\" font-family=\"Times,serif\" font-size=\"14.00\">X[21] &lt;= 19.91</text>\n",
       "<text text-anchor=\"middle\" x=\"915\" y=\"-542.8\" font-family=\"Times,serif\" font-size=\"14.00\">gini = 0.4012</text>\n",
       "<text text-anchor=\"middle\" x=\"915\" y=\"-527.8\" font-family=\"Times,serif\" font-size=\"14.00\">samples = 18</text>\n",
       "<text text-anchor=\"middle\" x=\"915\" y=\"-512.8\" font-family=\"Times,serif\" font-size=\"14.00\">value = [5, 13]</text>\n",
       "</g>\n",
       "<!-- 25&#45;&gt;26 -->\n",
       "<g id=\"edge26\" class=\"edge\"><title>25&#45;&gt;26</title>\n",
       "<path fill=\"none\" stroke=\"black\" d=\"M919.727,-608.884C919.171,-600.778 918.567,-591.982 917.983,-583.472\"/>\n",
       "<polygon fill=\"black\" stroke=\"black\" points=\"921.462,-583.036 917.285,-573.299 914.478,-583.516 921.462,-583.036\"/>\n",
       "</g>\n",
       "<!-- 31 -->\n",
       "<g id=\"node32\" class=\"node\"><title>31</title>\n",
       "<polygon fill=\"none\" stroke=\"black\" points=\"1077,-565.5 985,-565.5 985,-512.5 1077,-512.5 1077,-565.5\"/>\n",
       "<text text-anchor=\"middle\" x=\"1031\" y=\"-550.3\" font-family=\"Times,serif\" font-size=\"14.00\">gini = 0.0</text>\n",
       "<text text-anchor=\"middle\" x=\"1031\" y=\"-535.3\" font-family=\"Times,serif\" font-size=\"14.00\">samples = 9</text>\n",
       "<text text-anchor=\"middle\" x=\"1031\" y=\"-520.3\" font-family=\"Times,serif\" font-size=\"14.00\">value = [9, 0]</text>\n",
       "</g>\n",
       "<!-- 25&#45;&gt;31 -->\n",
       "<g id=\"edge31\" class=\"edge\"><title>25&#45;&gt;31</title>\n",
       "<path fill=\"none\" stroke=\"black\" d=\"M957.389,-608.884C969.847,-597.226 983.83,-584.141 996.236,-572.532\"/>\n",
       "<polygon fill=\"black\" stroke=\"black\" points=\"998.819,-574.908 1003.73,-565.52 994.036,-569.797 998.819,-574.908\"/>\n",
       "</g>\n",
       "<!-- 27 -->\n",
       "<g id=\"node28\" class=\"node\"><title>27</title>\n",
       "<polygon fill=\"none\" stroke=\"black\" points=\"938,-461.5 846,-461.5 846,-408.5 938,-408.5 938,-461.5\"/>\n",
       "<text text-anchor=\"middle\" x=\"892\" y=\"-446.3\" font-family=\"Times,serif\" font-size=\"14.00\">gini = 0.0</text>\n",
       "<text text-anchor=\"middle\" x=\"892\" y=\"-431.3\" font-family=\"Times,serif\" font-size=\"14.00\">samples = 4</text>\n",
       "<text text-anchor=\"middle\" x=\"892\" y=\"-416.3\" font-family=\"Times,serif\" font-size=\"14.00\">value = [4, 0]</text>\n",
       "</g>\n",
       "<!-- 26&#45;&gt;27 -->\n",
       "<g id=\"edge27\" class=\"edge\"><title>26&#45;&gt;27</title>\n",
       "<path fill=\"none\" stroke=\"black\" d=\"M907.533,-504.884C905.127,-494.216 902.452,-482.352 900.009,-471.519\"/>\n",
       "<polygon fill=\"black\" stroke=\"black\" points=\"903.369,-470.505 897.754,-461.52 896.54,-472.045 903.369,-470.505\"/>\n",
       "</g>\n",
       "<!-- 28 -->\n",
       "<g id=\"node29\" class=\"node\"><title>28</title>\n",
       "<polygon fill=\"none\" stroke=\"black\" points=\"1054,-469 956,-469 956,-401 1054,-401 1054,-469\"/>\n",
       "<text text-anchor=\"middle\" x=\"1005\" y=\"-453.8\" font-family=\"Times,serif\" font-size=\"14.00\">X[8] &lt;= 0.15</text>\n",
       "<text text-anchor=\"middle\" x=\"1005\" y=\"-438.8\" font-family=\"Times,serif\" font-size=\"14.00\">gini = 0.1327</text>\n",
       "<text text-anchor=\"middle\" x=\"1005\" y=\"-423.8\" font-family=\"Times,serif\" font-size=\"14.00\">samples = 14</text>\n",
       "<text text-anchor=\"middle\" x=\"1005\" y=\"-408.8\" font-family=\"Times,serif\" font-size=\"14.00\">value = [1, 13]</text>\n",
       "</g>\n",
       "<!-- 26&#45;&gt;28 -->\n",
       "<g id=\"edge28\" class=\"edge\"><title>26&#45;&gt;28</title>\n",
       "<path fill=\"none\" stroke=\"black\" d=\"M944.22,-504.884C952.08,-495.976 960.675,-486.235 968.862,-476.957\"/>\n",
       "<polygon fill=\"black\" stroke=\"black\" points=\"971.626,-479.113 975.618,-469.299 966.378,-474.482 971.626,-479.113\"/>\n",
       "</g>\n",
       "<!-- 29 -->\n",
       "<g id=\"node30\" class=\"node\"><title>29</title>\n",
       "<polygon fill=\"none\" stroke=\"black\" points=\"965,-357.5 873,-357.5 873,-304.5 965,-304.5 965,-357.5\"/>\n",
       "<text text-anchor=\"middle\" x=\"919\" y=\"-342.3\" font-family=\"Times,serif\" font-size=\"14.00\">gini = 0.0</text>\n",
       "<text text-anchor=\"middle\" x=\"919\" y=\"-327.3\" font-family=\"Times,serif\" font-size=\"14.00\">samples = 1</text>\n",
       "<text text-anchor=\"middle\" x=\"919\" y=\"-312.3\" font-family=\"Times,serif\" font-size=\"14.00\">value = [1, 0]</text>\n",
       "</g>\n",
       "<!-- 28&#45;&gt;29 -->\n",
       "<g id=\"edge29\" class=\"edge\"><title>28&#45;&gt;29</title>\n",
       "<path fill=\"none\" stroke=\"black\" d=\"M977.078,-400.884C967.435,-389.446 956.632,-376.634 946.984,-365.19\"/>\n",
       "<polygon fill=\"black\" stroke=\"black\" points=\"949.639,-362.909 940.517,-357.52 944.287,-367.421 949.639,-362.909\"/>\n",
       "</g>\n",
       "<!-- 30 -->\n",
       "<g id=\"node31\" class=\"node\"><title>30</title>\n",
       "<polygon fill=\"none\" stroke=\"black\" points=\"1081,-357.5 983,-357.5 983,-304.5 1081,-304.5 1081,-357.5\"/>\n",
       "<text text-anchor=\"middle\" x=\"1032\" y=\"-342.3\" font-family=\"Times,serif\" font-size=\"14.00\">gini = 0.0</text>\n",
       "<text text-anchor=\"middle\" x=\"1032\" y=\"-327.3\" font-family=\"Times,serif\" font-size=\"14.00\">samples = 13</text>\n",
       "<text text-anchor=\"middle\" x=\"1032\" y=\"-312.3\" font-family=\"Times,serif\" font-size=\"14.00\">value = [0, 13]</text>\n",
       "</g>\n",
       "<!-- 28&#45;&gt;30 -->\n",
       "<g id=\"edge30\" class=\"edge\"><title>28&#45;&gt;30</title>\n",
       "<path fill=\"none\" stroke=\"black\" d=\"M1013.77,-400.884C1016.59,-390.216 1019.73,-378.352 1022.6,-367.519\"/>\n",
       "<polygon fill=\"black\" stroke=\"black\" points=\"1026.07,-368.083 1025.24,-357.52 1019.3,-366.291 1026.07,-368.083\"/>\n",
       "</g>\n",
       "<!-- 33 -->\n",
       "<g id=\"node34\" class=\"node\"><title>33</title>\n",
       "<polygon fill=\"none\" stroke=\"black\" points=\"1187,-565.5 1095,-565.5 1095,-512.5 1187,-512.5 1187,-565.5\"/>\n",
       "<text text-anchor=\"middle\" x=\"1141\" y=\"-550.3\" font-family=\"Times,serif\" font-size=\"14.00\">gini = 0.0</text>\n",
       "<text text-anchor=\"middle\" x=\"1141\" y=\"-535.3\" font-family=\"Times,serif\" font-size=\"14.00\">samples = 2</text>\n",
       "<text text-anchor=\"middle\" x=\"1141\" y=\"-520.3\" font-family=\"Times,serif\" font-size=\"14.00\">value = [2, 0]</text>\n",
       "</g>\n",
       "<!-- 32&#45;&gt;33 -->\n",
       "<g id=\"edge33\" class=\"edge\"><title>32&#45;&gt;33</title>\n",
       "<path fill=\"none\" stroke=\"black\" d=\"M1141,-608.884C1141,-598.326 1141,-586.597 1141,-575.854\"/>\n",
       "<polygon fill=\"black\" stroke=\"black\" points=\"1144.5,-575.52 1141,-565.52 1137.5,-575.52 1144.5,-575.52\"/>\n",
       "</g>\n",
       "<!-- 34 -->\n",
       "<g id=\"node35\" class=\"node\"><title>34</title>\n",
       "<polygon fill=\"none\" stroke=\"black\" points=\"1315,-573 1205,-573 1205,-505 1315,-505 1315,-573\"/>\n",
       "<text text-anchor=\"middle\" x=\"1260\" y=\"-557.8\" font-family=\"Times,serif\" font-size=\"14.00\">X[13] &lt;= 16.715</text>\n",
       "<text text-anchor=\"middle\" x=\"1260\" y=\"-542.8\" font-family=\"Times,serif\" font-size=\"14.00\">gini = 0.0403</text>\n",
       "<text text-anchor=\"middle\" x=\"1260\" y=\"-527.8\" font-family=\"Times,serif\" font-size=\"14.00\">samples = 146</text>\n",
       "<text text-anchor=\"middle\" x=\"1260\" y=\"-512.8\" font-family=\"Times,serif\" font-size=\"14.00\">value = [3, 143]</text>\n",
       "</g>\n",
       "<!-- 32&#45;&gt;34 -->\n",
       "<g id=\"edge34\" class=\"edge\"><title>32&#45;&gt;34</title>\n",
       "<path fill=\"none\" stroke=\"black\" d=\"M1179.64,-608.884C1190.44,-599.62 1202.3,-589.455 1213.51,-579.845\"/>\n",
       "<polygon fill=\"black\" stroke=\"black\" points=\"1215.84,-582.465 1221.15,-573.299 1211.28,-577.15 1215.84,-582.465\"/>\n",
       "</g>\n",
       "<!-- 35 -->\n",
       "<g id=\"node36\" class=\"node\"><title>35</title>\n",
       "<polygon fill=\"none\" stroke=\"black\" points=\"1209,-461.5 1117,-461.5 1117,-408.5 1209,-408.5 1209,-461.5\"/>\n",
       "<text text-anchor=\"middle\" x=\"1163\" y=\"-446.3\" font-family=\"Times,serif\" font-size=\"14.00\">gini = 0.0</text>\n",
       "<text text-anchor=\"middle\" x=\"1163\" y=\"-431.3\" font-family=\"Times,serif\" font-size=\"14.00\">samples = 1</text>\n",
       "<text text-anchor=\"middle\" x=\"1163\" y=\"-416.3\" font-family=\"Times,serif\" font-size=\"14.00\">value = [1, 0]</text>\n",
       "</g>\n",
       "<!-- 34&#45;&gt;35 -->\n",
       "<g id=\"edge35\" class=\"edge\"><title>34&#45;&gt;35</title>\n",
       "<path fill=\"none\" stroke=\"black\" d=\"M1228.51,-504.884C1217.53,-493.336 1205.21,-480.387 1194.25,-468.86\"/>\n",
       "<polygon fill=\"black\" stroke=\"black\" points=\"1196.7,-466.354 1187.27,-461.52 1191.62,-471.178 1196.7,-466.354\"/>\n",
       "</g>\n",
       "<!-- 36 -->\n",
       "<g id=\"node37\" class=\"node\"><title>36</title>\n",
       "<polygon fill=\"none\" stroke=\"black\" points=\"1337,-469 1227,-469 1227,-401 1337,-401 1337,-469\"/>\n",
       "<text text-anchor=\"middle\" x=\"1282\" y=\"-453.8\" font-family=\"Times,serif\" font-size=\"14.00\">X[19] &lt;= 0.0129</text>\n",
       "<text text-anchor=\"middle\" x=\"1282\" y=\"-438.8\" font-family=\"Times,serif\" font-size=\"14.00\">gini = 0.0272</text>\n",
       "<text text-anchor=\"middle\" x=\"1282\" y=\"-423.8\" font-family=\"Times,serif\" font-size=\"14.00\">samples = 145</text>\n",
       "<text text-anchor=\"middle\" x=\"1282\" y=\"-408.8\" font-family=\"Times,serif\" font-size=\"14.00\">value = [2, 143]</text>\n",
       "</g>\n",
       "<!-- 34&#45;&gt;36 -->\n",
       "<g id=\"edge36\" class=\"edge\"><title>34&#45;&gt;36</title>\n",
       "<path fill=\"none\" stroke=\"black\" d=\"M1267.14,-504.884C1268.91,-496.689 1270.83,-487.789 1272.68,-479.192\"/>\n",
       "<polygon fill=\"black\" stroke=\"black\" points=\"1276.13,-479.813 1274.82,-469.299 1269.29,-478.337 1276.13,-479.813\"/>\n",
       "</g>\n",
       "<!-- 37 -->\n",
       "<g id=\"node38\" class=\"node\"><title>37</title>\n",
       "<polygon fill=\"none\" stroke=\"black\" points=\"1264,-365 1154,-365 1154,-297 1264,-297 1264,-365\"/>\n",
       "<text text-anchor=\"middle\" x=\"1209\" y=\"-349.8\" font-family=\"Times,serif\" font-size=\"14.00\">X[21] &lt;= 18.355</text>\n",
       "<text text-anchor=\"middle\" x=\"1209\" y=\"-334.8\" font-family=\"Times,serif\" font-size=\"14.00\">gini = 0.0138</text>\n",
       "<text text-anchor=\"middle\" x=\"1209\" y=\"-319.8\" font-family=\"Times,serif\" font-size=\"14.00\">samples = 144</text>\n",
       "<text text-anchor=\"middle\" x=\"1209\" y=\"-304.8\" font-family=\"Times,serif\" font-size=\"14.00\">value = [1, 143]</text>\n",
       "</g>\n",
       "<!-- 36&#45;&gt;37 -->\n",
       "<g id=\"edge37\" class=\"edge\"><title>36&#45;&gt;37</title>\n",
       "<path fill=\"none\" stroke=\"black\" d=\"M1258.3,-400.884C1252.05,-392.154 1245.23,-382.625 1238.71,-373.514\"/>\n",
       "<polygon fill=\"black\" stroke=\"black\" points=\"1241.5,-371.394 1232.83,-365.299 1235.81,-375.468 1241.5,-371.394\"/>\n",
       "</g>\n",
       "<!-- 42 -->\n",
       "<g id=\"node43\" class=\"node\"><title>42</title>\n",
       "<polygon fill=\"none\" stroke=\"black\" points=\"1374,-357.5 1282,-357.5 1282,-304.5 1374,-304.5 1374,-357.5\"/>\n",
       "<text text-anchor=\"middle\" x=\"1328\" y=\"-342.3\" font-family=\"Times,serif\" font-size=\"14.00\">gini = 0.0</text>\n",
       "<text text-anchor=\"middle\" x=\"1328\" y=\"-327.3\" font-family=\"Times,serif\" font-size=\"14.00\">samples = 1</text>\n",
       "<text text-anchor=\"middle\" x=\"1328\" y=\"-312.3\" font-family=\"Times,serif\" font-size=\"14.00\">value = [1, 0]</text>\n",
       "</g>\n",
       "<!-- 36&#45;&gt;42 -->\n",
       "<g id=\"edge42\" class=\"edge\"><title>36&#45;&gt;42</title>\n",
       "<path fill=\"none\" stroke=\"black\" d=\"M1296.93,-400.884C1301.85,-389.996 1307.32,-377.863 1312.28,-366.85\"/>\n",
       "<polygon fill=\"black\" stroke=\"black\" points=\"1315.57,-368.075 1316.49,-357.52 1309.19,-365.197 1315.57,-368.075\"/>\n",
       "</g>\n",
       "<!-- 38 -->\n",
       "<g id=\"node39\" class=\"node\"><title>38</title>\n",
       "<polygon fill=\"none\" stroke=\"black\" points=\"1199,-261 1095,-261 1095,-193 1199,-193 1199,-261\"/>\n",
       "<text text-anchor=\"middle\" x=\"1147\" y=\"-245.8\" font-family=\"Times,serif\" font-size=\"14.00\">X[6] &lt;= 0.1095</text>\n",
       "<text text-anchor=\"middle\" x=\"1147\" y=\"-230.8\" font-family=\"Times,serif\" font-size=\"14.00\">gini = 0.4444</text>\n",
       "<text text-anchor=\"middle\" x=\"1147\" y=\"-215.8\" font-family=\"Times,serif\" font-size=\"14.00\">samples = 3</text>\n",
       "<text text-anchor=\"middle\" x=\"1147\" y=\"-200.8\" font-family=\"Times,serif\" font-size=\"14.00\">value = [1, 2]</text>\n",
       "</g>\n",
       "<!-- 37&#45;&gt;38 -->\n",
       "<g id=\"edge38\" class=\"edge\"><title>37&#45;&gt;38</title>\n",
       "<path fill=\"none\" stroke=\"black\" d=\"M1188.87,-296.884C1183.67,-288.332 1178.01,-279.013 1172.57,-270.072\"/>\n",
       "<polygon fill=\"black\" stroke=\"black\" points=\"1175.43,-268.027 1167.24,-261.299 1169.44,-271.663 1175.43,-268.027\"/>\n",
       "</g>\n",
       "<!-- 41 -->\n",
       "<g id=\"node42\" class=\"node\"><title>41</title>\n",
       "<polygon fill=\"none\" stroke=\"black\" points=\"1322.5,-253.5 1217.5,-253.5 1217.5,-200.5 1322.5,-200.5 1322.5,-253.5\"/>\n",
       "<text text-anchor=\"middle\" x=\"1270\" y=\"-238.3\" font-family=\"Times,serif\" font-size=\"14.00\">gini = 0.0</text>\n",
       "<text text-anchor=\"middle\" x=\"1270\" y=\"-223.3\" font-family=\"Times,serif\" font-size=\"14.00\">samples = 141</text>\n",
       "<text text-anchor=\"middle\" x=\"1270\" y=\"-208.3\" font-family=\"Times,serif\" font-size=\"14.00\">value = [0, 141]</text>\n",
       "</g>\n",
       "<!-- 37&#45;&gt;41 -->\n",
       "<g id=\"edge41\" class=\"edge\"><title>37&#45;&gt;41</title>\n",
       "<path fill=\"none\" stroke=\"black\" d=\"M1228.8,-296.884C1235.45,-285.776 1242.87,-273.372 1249.56,-262.184\"/>\n",
       "<polygon fill=\"black\" stroke=\"black\" points=\"1252.61,-263.899 1254.74,-253.52 1246.6,-260.306 1252.61,-263.899\"/>\n",
       "</g>\n",
       "<!-- 39 -->\n",
       "<g id=\"node40\" class=\"node\"><title>39</title>\n",
       "<polygon fill=\"none\" stroke=\"black\" points=\"1138,-149.5 1046,-149.5 1046,-96.5 1138,-96.5 1138,-149.5\"/>\n",
       "<text text-anchor=\"middle\" x=\"1092\" y=\"-134.3\" font-family=\"Times,serif\" font-size=\"14.00\">gini = 0.0</text>\n",
       "<text text-anchor=\"middle\" x=\"1092\" y=\"-119.3\" font-family=\"Times,serif\" font-size=\"14.00\">samples = 1</text>\n",
       "<text text-anchor=\"middle\" x=\"1092\" y=\"-104.3\" font-family=\"Times,serif\" font-size=\"14.00\">value = [1, 0]</text>\n",
       "</g>\n",
       "<!-- 38&#45;&gt;39 -->\n",
       "<g id=\"edge39\" class=\"edge\"><title>38&#45;&gt;39</title>\n",
       "<path fill=\"none\" stroke=\"black\" d=\"M1129.14,-192.884C1123.21,-181.886 1116.6,-169.617 1110.61,-158.517\"/>\n",
       "<polygon fill=\"black\" stroke=\"black\" points=\"1113.59,-156.661 1105.76,-149.52 1107.43,-159.983 1113.59,-156.661\"/>\n",
       "</g>\n",
       "<!-- 40 -->\n",
       "<g id=\"node41\" class=\"node\"><title>40</title>\n",
       "<polygon fill=\"none\" stroke=\"black\" points=\"1248,-149.5 1156,-149.5 1156,-96.5 1248,-96.5 1248,-149.5\"/>\n",
       "<text text-anchor=\"middle\" x=\"1202\" y=\"-134.3\" font-family=\"Times,serif\" font-size=\"14.00\">gini = 0.0</text>\n",
       "<text text-anchor=\"middle\" x=\"1202\" y=\"-119.3\" font-family=\"Times,serif\" font-size=\"14.00\">samples = 2</text>\n",
       "<text text-anchor=\"middle\" x=\"1202\" y=\"-104.3\" font-family=\"Times,serif\" font-size=\"14.00\">value = [0, 2]</text>\n",
       "</g>\n",
       "<!-- 38&#45;&gt;40 -->\n",
       "<g id=\"edge40\" class=\"edge\"><title>38&#45;&gt;40</title>\n",
       "<path fill=\"none\" stroke=\"black\" d=\"M1164.86,-192.884C1170.79,-181.886 1177.4,-169.617 1183.39,-158.517\"/>\n",
       "<polygon fill=\"black\" stroke=\"black\" points=\"1186.57,-159.983 1188.24,-149.52 1180.41,-156.661 1186.57,-159.983\"/>\n",
       "</g>\n",
       "</g>\n",
       "</svg>\n"
      ],
      "text/plain": [
       "<graphviz.files.Source at 0x7fb509450c90>"
      ]
     },
     "execution_count": 25,
     "metadata": {},
     "output_type": "execute_result"
    }
   ],
   "source": [
    "dot_data = tree.export_graphviz(clf, out_file=None) \n",
    "graph = graphviz.Source(dot_data)\n",
    "graph.render(\"iris\") \n",
    "graph"
   ]
  },
  {
   "cell_type": "markdown",
   "metadata": {},
   "source": [
    "# Feature Importance with Random Forest"
   ]
  },
  {
   "cell_type": "code",
   "execution_count": 26,
   "metadata": {
    "collapsed": false
   },
   "outputs": [],
   "source": [
    "X = df.drop(['diagnosis'], 1)\n",
    "y = df['diagnosis']"
   ]
  },
  {
   "cell_type": "code",
   "execution_count": 27,
   "metadata": {
    "collapsed": false
   },
   "outputs": [
    {
     "name": "stdout",
     "output_type": "stream",
     "text": [
      "Features sorted by their score:\n",
      "[(0.3145, 'concave_points_sd_error'), (0.2233, 'perimeter_sd_error'), (0.1956, 'fractal_dimension_mean'), (0.1165, 'concave_points_worst'), (0.0211, 'concavity_worst'), (0.018, 'concave_points_mean'), (0.0167, 'radius_sd_error'), (0.0118, 'symmetry_mean'), (0.0114, 'symmetry_worst'), (0.0096, 'ID'), (0.0095, 'smoothness_sd_error'), (0.0085, 'fractal_dimension_sd_error'), (0.0053, 'fractal_dimension_worst'), (0.0051, 'texture_mean'), (0.004, 'area_sd_error'), (0.0037, 'texture_sd_error'), (0.0036, 'compactness_worst'), (0.0034, 'radius_mean'), (0.0032, 'concavity_sd_error'), (0.0026, 'smoothness_mean'), (0.0023, 'smoothness_worst'), (0.0018, 'compactness_sd_error'), (0.0017, 'concavity_mean'), (0.0014, 'compactness_mean'), (0.0014, 'area_mean'), (0.0013, 'symmetry_sd_error'), (0.001, 'perimeter_mean'), (0.0007, 'area_worst'), (0.0005, 'texture_worst'), (0.0004, 'radius_worst'), (0.0, 'perimeter_worst')]\n"
     ]
    }
   ],
   "source": [
    "rf = RandomForestRegressor()\n",
    "rf.fit(X, y)\n",
    "names = X.dtypes.index\n",
    "print \"Features sorted by their score:\"\n",
    "print sorted(zip(map(lambda x: round(x, 4), rf.feature_importances_), names), \n",
    "             reverse=True)"
   ]
  },
  {
   "cell_type": "markdown",
   "metadata": {},
   "source": [
    "The standard error of Concave Points, the standard error of the perimeter, and fractal dimension mean are the most important features from our Random Forest Regressor."
   ]
  },
  {
   "cell_type": "markdown",
   "metadata": {},
   "source": [
    "# OLS Regression"
   ]
  },
  {
   "cell_type": "code",
   "execution_count": 42,
   "metadata": {
    "collapsed": true
   },
   "outputs": [],
   "source": [
    "# It is important when doing an OLS regression to split your data into a training and testing data set."
   ]
  },
  {
   "cell_type": "code",
   "execution_count": 28,
   "metadata": {
    "collapsed": false
   },
   "outputs": [
    {
     "data": {
      "image/png": "[encoded data removed]",
      "text/plain": [
       "<matplotlib.figure.Figure at 0x7fb53d7b48d0>"
      ]
     },
     "metadata": {},
     "output_type": "display_data"
    },
    {
     "name": "stdout",
     "output_type": "stream",
     "text": [
      "MSE: 0.0540209854776\n"
     ]
    }
   ],
   "source": [
    "import statsmodels.api as sm\n",
    "import matplotlib.pyplot as plt\n",
    "from sklearn.metrics import mean_squared_error\n",
    "\n",
    "# Note the difference in argument order\n",
    "# optionally, you can chain \"fit()\" to the model object\n",
    "model = sm.OLS(y_train, X_train)\n",
    "model = model.fit()\n",
    "predictions = model.predict(X_test)\n",
    "\n",
    "# Plot the model\n",
    "plt.figure(figsize=(8,6))\n",
    "plt.scatter(predictions, y_test, s=30, c='r', marker='+', zorder=10)\n",
    "plt.xlabel(\"Predicted Values - $\\hat{y}$\")\n",
    "plt.ylabel(\"Actual Values - $y$\")\n",
    "plt.show()\n",
    "\n",
    "print \"MSE:\", mean_squared_error(y_test, predictions)"
   ]
  },
  {
   "cell_type": "code",
   "execution_count": 29,
   "metadata": {
    "collapsed": false
   },
   "outputs": [
    {
     "data": {
      "text/html": [
       "<table class=\"simpletable\">\n",
       "<caption>OLS Regression Results</caption>\n",
       "<tr>\n",
       "  <th>Dep. Variable:</th>        <td>diagnosis</td>    <th>  R-squared:         </th> <td>   0.849</td> \n",
       "</tr>\n",
       "<tr>\n",
       "  <th>Model:</th>                   <td>OLS</td>       <th>  Adj. R-squared:    </th> <td>   0.838</td> \n",
       "</tr>\n",
       "<tr>\n",
       "  <th>Method:</th>             <td>Least Squares</td>  <th>  F-statistic:       </th> <td>   79.58</td> \n",
       "</tr>\n",
       "<tr>\n",
       "  <th>Date:</th>             <td>Wed, 06 Dec 2017</td> <th>  Prob (F-statistic):</th> <td>2.94e-154</td>\n",
       "</tr>\n",
       "<tr>\n",
       "  <th>Time:</th>                 <td>15:41:44</td>     <th>  Log-Likelihood:    </th> <td>  9.5989</td> \n",
       "</tr>\n",
       "<tr>\n",
       "  <th>No. Observations:</th>      <td>   455</td>      <th>  AIC:               </th> <td>   40.80</td> \n",
       "</tr>\n",
       "<tr>\n",
       "  <th>Df Residuals:</th>          <td>   425</td>      <th>  BIC:               </th> <td>   164.4</td> \n",
       "</tr>\n",
       "<tr>\n",
       "  <th>Df Model:</th>              <td>    30</td>      <th>                     </th>     <td> </td>    \n",
       "</tr>\n",
       "<tr>\n",
       "  <th>Covariance Type:</th>      <td>nonrobust</td>    <th>                     </th>     <td> </td>    \n",
       "</tr>\n",
       "</table>\n",
       "<table class=\"simpletable\">\n",
       "<tr>\n",
       "               <td></td>                 <th>coef</th>     <th>std err</th>      <th>t</th>      <th>P>|t|</th>  <th>[0.025</th>    <th>0.975]</th>  \n",
       "</tr>\n",
       "<tr>\n",
       "  <th>radius_mean</th>                <td>   -0.4326</td> <td>    0.204</td> <td>   -2.124</td> <td> 0.034</td> <td>   -0.833</td> <td>   -0.032</td>\n",
       "</tr>\n",
       "<tr>\n",
       "  <th>radius_sd_error</th>            <td>    0.0076</td> <td>    0.010</td> <td>    0.778</td> <td> 0.437</td> <td>   -0.012</td> <td>    0.027</td>\n",
       "</tr>\n",
       "<tr>\n",
       "  <th>radius_worst</th>               <td>    0.0340</td> <td>    0.030</td> <td>    1.148</td> <td> 0.251</td> <td>   -0.024</td> <td>    0.092</td>\n",
       "</tr>\n",
       "<tr>\n",
       "  <th>texture_mean</th>               <td>    0.0015</td> <td>    0.001</td> <td>    2.560</td> <td> 0.011</td> <td>    0.000</td> <td>    0.003</td>\n",
       "</tr>\n",
       "<tr>\n",
       "  <th>texture_sd_error</th>           <td>    1.4063</td> <td>    2.425</td> <td>    0.580</td> <td> 0.562</td> <td>   -3.360</td> <td>    6.173</td>\n",
       "</tr>\n",
       "<tr>\n",
       "  <th>texture_worst</th>              <td>   -1.9459</td> <td>    1.447</td> <td>   -1.345</td> <td> 0.179</td> <td>   -4.790</td> <td>    0.898</td>\n",
       "</tr>\n",
       "<tr>\n",
       "  <th>perimeter_mean</th>             <td>    0.8787</td> <td>    1.204</td> <td>    0.730</td> <td> 0.466</td> <td>   -1.488</td> <td>    3.245</td>\n",
       "</tr>\n",
       "<tr>\n",
       "  <th>perimeter_sd_error</th>         <td>    2.4853</td> <td>    2.290</td> <td>    1.085</td> <td> 0.278</td> <td>   -2.017</td> <td>    6.987</td>\n",
       "</tr>\n",
       "<tr>\n",
       "  <th>perimeter_worst</th>            <td>   -0.8993</td> <td>    0.846</td> <td>   -1.063</td> <td> 0.289</td> <td>   -2.563</td> <td>    0.764</td>\n",
       "</tr>\n",
       "<tr>\n",
       "  <th>area_mean</th>                  <td>  -17.7035</td> <td>    4.647</td> <td>   -3.810</td> <td> 0.000</td> <td>  -26.837</td> <td>   -8.570</td>\n",
       "</tr>\n",
       "<tr>\n",
       "  <th>area_sd_error</th>              <td>    0.3222</td> <td>    0.369</td> <td>    0.874</td> <td> 0.383</td> <td>   -0.403</td> <td>    1.047</td>\n",
       "</tr>\n",
       "<tr>\n",
       "  <th>area_worst</th>                 <td>   -0.0276</td> <td>    0.050</td> <td>   -0.550</td> <td> 0.583</td> <td>   -0.126</td> <td>    0.071</td>\n",
       "</tr>\n",
       "<tr>\n",
       "  <th>smoothness_mean</th>            <td>    0.0066</td> <td>    0.048</td> <td>    0.138</td> <td> 0.890</td> <td>   -0.087</td> <td>    0.100</td>\n",
       "</tr>\n",
       "<tr>\n",
       "  <th>smoothness_sd_error</th>        <td>   -0.0021</td> <td>    0.002</td> <td>   -1.135</td> <td> 0.257</td> <td>   -0.006</td> <td>    0.002</td>\n",
       "</tr>\n",
       "<tr>\n",
       "  <th>smoothness_worst</th>           <td>   18.8292</td> <td>    7.812</td> <td>    2.410</td> <td> 0.016</td> <td>    3.475</td> <td>   34.184</td>\n",
       "</tr>\n",
       "<tr>\n",
       "  <th>compactness_mean</th>           <td>   -1.9460</td> <td>    2.397</td> <td>   -0.812</td> <td> 0.417</td> <td>   -6.657</td> <td>    2.765</td>\n",
       "</tr>\n",
       "<tr>\n",
       "  <th>compactness_sd_error</th>       <td>   -2.7892</td> <td>    1.479</td> <td>   -1.886</td> <td> 0.060</td> <td>   -5.695</td> <td>    0.117</td>\n",
       "</tr>\n",
       "<tr>\n",
       "  <th>compactness_worst</th>          <td>   11.1256</td> <td>    6.666</td> <td>    1.669</td> <td> 0.096</td> <td>   -1.977</td> <td>   24.229</td>\n",
       "</tr>\n",
       "<tr>\n",
       "  <th>concavity_mean</th>             <td>    0.7212</td> <td>    3.181</td> <td>    0.227</td> <td> 0.821</td> <td>   -5.530</td> <td>    6.973</td>\n",
       "</tr>\n",
       "<tr>\n",
       "  <th>concavity_sd_error</th>         <td>    7.6595</td> <td>   12.458</td> <td>    0.615</td> <td> 0.539</td> <td>  -16.828</td> <td>   32.147</td>\n",
       "</tr>\n",
       "<tr>\n",
       "  <th>concavity_worst</th>            <td>    0.2638</td> <td>    0.067</td> <td>    3.925</td> <td> 0.000</td> <td>    0.132</td> <td>    0.396</td>\n",
       "</tr>\n",
       "<tr>\n",
       "  <th>concave_points_mean</th>        <td>    0.0063</td> <td>    0.009</td> <td>    0.714</td> <td> 0.476</td> <td>   -0.011</td> <td>    0.024</td>\n",
       "</tr>\n",
       "<tr>\n",
       "  <th>concave_points_sd_error</th>    <td>   -0.0087</td> <td>    0.007</td> <td>   -1.271</td> <td> 0.205</td> <td>   -0.022</td> <td>    0.005</td>\n",
       "</tr>\n",
       "<tr>\n",
       "  <th>concave_points_worst</th>       <td>   -0.0012</td> <td>    0.000</td> <td>   -3.066</td> <td> 0.002</td> <td>   -0.002</td> <td>   -0.000</td>\n",
       "</tr>\n",
       "<tr>\n",
       "  <th>symmetry_mean</th>              <td>   -0.8564</td> <td>    1.632</td> <td>   -0.525</td> <td> 0.600</td> <td>   -4.065</td> <td>    2.352</td>\n",
       "</tr>\n",
       "<tr>\n",
       "  <th>symmetry_sd_error</th>          <td>    0.2587</td> <td>    0.442</td> <td>    0.585</td> <td> 0.559</td> <td>   -0.610</td> <td>    1.128</td>\n",
       "</tr>\n",
       "<tr>\n",
       "  <th>symmetry_worst</th>             <td>    0.2799</td> <td>    0.304</td> <td>    0.921</td> <td> 0.358</td> <td>   -0.317</td> <td>    0.877</td>\n",
       "</tr>\n",
       "<tr>\n",
       "  <th>fractal_dimension_mean</th>     <td>    0.6544</td> <td>    1.074</td> <td>    0.609</td> <td> 0.543</td> <td>   -1.456</td> <td>    2.765</td>\n",
       "</tr>\n",
       "<tr>\n",
       "  <th>fractal_dimension_sd_error</th> <td>    0.8062</td> <td>    0.559</td> <td>    1.443</td> <td> 0.150</td> <td>   -0.292</td> <td>    1.905</td>\n",
       "</tr>\n",
       "<tr>\n",
       "  <th>fractal_dimension_worst</th>    <td>    4.3384</td> <td>    2.663</td> <td>    1.629</td> <td> 0.104</td> <td>   -0.897</td> <td>    9.574</td>\n",
       "</tr>\n",
       "</table>\n",
       "<table class=\"simpletable\">\n",
       "<tr>\n",
       "  <th>Omnibus:</th>       <td>24.996</td> <th>  Durbin-Watson:     </th> <td>   1.796</td>\n",
       "</tr>\n",
       "<tr>\n",
       "  <th>Prob(Omnibus):</th> <td> 0.000</td> <th>  Jarque-Bera (JB):  </th> <td>  27.631</td>\n",
       "</tr>\n",
       "<tr>\n",
       "  <th>Skew:</th>          <td> 0.570</td> <th>  Prob(JB):          </th> <td>1.00e-06</td>\n",
       "</tr>\n",
       "<tr>\n",
       "  <th>Kurtosis:</th>      <td> 3.398</td> <th>  Cond. No.          </th> <td>1.39e+06</td>\n",
       "</tr>\n",
       "</table>"
      ],
      "text/plain": [
       "<class 'statsmodels.iolib.summary.Summary'>\n",
       "\"\"\"\n",
       "                            OLS Regression Results                            \n",
       "==============================================================================\n",
       "Dep. Variable:              diagnosis   R-squared:                       0.849\n",
       "Model:                            OLS   Adj. R-squared:                  0.838\n",
       "Method:                 Least Squares   F-statistic:                     79.58\n",
       "Date:                Wed, 06 Dec 2017   Prob (F-statistic):          2.94e-154\n",
       "Time:                        15:41:44   Log-Likelihood:                 9.5989\n",
       "No. Observations:                 455   AIC:                             40.80\n",
       "Df Residuals:                     425   BIC:                             164.4\n",
       "Df Model:                          30                                         \n",
       "Covariance Type:            nonrobust                                         \n",
       "==============================================================================================\n",
       "                                 coef    std err          t      P>|t|      [0.025      0.975]\n",
       "----------------------------------------------------------------------------------------------\n",
       "radius_mean                   -0.4326      0.204     -2.124      0.034      -0.833      -0.032\n",
       "radius_sd_error                0.0076      0.010      0.778      0.437      -0.012       0.027\n",
       "radius_worst                   0.0340      0.030      1.148      0.251      -0.024       0.092\n",
       "texture_mean                   0.0015      0.001      2.560      0.011       0.000       0.003\n",
       "texture_sd_error               1.4063      2.425      0.580      0.562      -3.360       6.173\n",
       "texture_worst                 -1.9459      1.447     -1.345      0.179      -4.790       0.898\n",
       "perimeter_mean                 0.8787      1.204      0.730      0.466      -1.488       3.245\n",
       "perimeter_sd_error             2.4853      2.290      1.085      0.278      -2.017       6.987\n",
       "perimeter_worst               -0.8993      0.846     -1.063      0.289      -2.563       0.764\n",
       "area_mean                    -17.7035      4.647     -3.810      0.000     -26.837      -8.570\n",
       "area_sd_error                  0.3222      0.369      0.874      0.383      -0.403       1.047\n",
       "area_worst                    -0.0276      0.050     -0.550      0.583      -0.126       0.071\n",
       "smoothness_mean                0.0066      0.048      0.138      0.890      -0.087       0.100\n",
       "smoothness_sd_error           -0.0021      0.002     -1.135      0.257      -0.006       0.002\n",
       "smoothness_worst              18.8292      7.812      2.410      0.016       3.475      34.184\n",
       "compactness_mean              -1.9460      2.397     -0.812      0.417      -6.657       2.765\n",
       "compactness_sd_error          -2.7892      1.479     -1.886      0.060      -5.695       0.117\n",
       "compactness_worst             11.1256      6.666      1.669      0.096      -1.977      24.229\n",
       "concavity_mean                 0.7212      3.181      0.227      0.821      -5.530       6.973\n",
       "concavity_sd_error             7.6595     12.458      0.615      0.539     -16.828      32.147\n",
       "concavity_worst                0.2638      0.067      3.925      0.000       0.132       0.396\n",
       "concave_points_mean            0.0063      0.009      0.714      0.476      -0.011       0.024\n",
       "concave_points_sd_error       -0.0087      0.007     -1.271      0.205      -0.022       0.005\n",
       "concave_points_worst          -0.0012      0.000     -3.066      0.002      -0.002      -0.000\n",
       "symmetry_mean                 -0.8564      1.632     -0.525      0.600      -4.065       2.352\n",
       "symmetry_sd_error              0.2587      0.442      0.585      0.559      -0.610       1.128\n",
       "symmetry_worst                 0.2799      0.304      0.921      0.358      -0.317       0.877\n",
       "fractal_dimension_mean         0.6544      1.074      0.609      0.543      -1.456       2.765\n",
       "fractal_dimension_sd_error     0.8062      0.559      1.443      0.150      -0.292       1.905\n",
       "fractal_dimension_worst        4.3384      2.663      1.629      0.104      -0.897       9.574\n",
       "==============================================================================\n",
       "Omnibus:                       24.996   Durbin-Watson:                   1.796\n",
       "Prob(Omnibus):                  0.000   Jarque-Bera (JB):               27.631\n",
       "Skew:                           0.570   Prob(JB):                     1.00e-06\n",
       "Kurtosis:                       3.398   Cond. No.                     1.39e+06\n",
       "==============================================================================\n",
       "\n",
       "Warnings:\n",
       "[1] Standard Errors assume that the covariance matrix of the errors is correctly specified.\n",
       "[2] The condition number is large, 1.39e+06. This might indicate that there are\n",
       "strong multicollinearity or other numerical problems.\n",
       "\"\"\""
      ]
     },
     "execution_count": 29,
     "metadata": {},
     "output_type": "execute_result"
    }
   ],
   "source": [
    "model.summary()"
   ]
  },
  {
   "cell_type": "code",
   "execution_count": 30,
   "metadata": {
    "collapsed": false
   },
   "outputs": [],
   "source": [
    "X = df[['texture_mean','area_mean','smoothness_worst','concavity_worst','concave_points_worst','fractal_dimension_worst','diagnosis']]\n",
    "test = X[0:100]\n",
    "train = X[100:]\n",
    "X_train = train.drop(['diagnosis'], 1)\n",
    "y_train = train['diagnosis']\n",
    "X_test = test.drop(['diagnosis'], 1)\n",
    "y_test = test['diagnosis']"
   ]
  },
  {
   "cell_type": "code",
   "execution_count": 31,
   "metadata": {
    "collapsed": false,
    "scrolled": true
   },
   "outputs": [
    {
     "data": {
      "image/png": "[encoded data removed]",
      "text/plain": [
       "<matplotlib.figure.Figure at 0x7fb508b35910>"
      ]
     },
     "metadata": {},
     "output_type": "display_data"
    },
    {
     "name": "stdout",
     "output_type": "stream",
     "text": [
      "MSE: 0.130965454272\n"
     ]
    }
   ],
   "source": [
    "import statsmodels.api as sm\n",
    "import matplotlib.pyplot as plt\n",
    "from sklearn.metrics import mean_squared_error\n",
    "\n",
    "# Note the difference in argument order\n",
    "# optionally, you can chain \"fit()\" to the model object\n",
    "model = sm.OLS(y_train, X_train)\n",
    "model = model.fit()\n",
    "predictions = model.predict(X_test)\n",
    "\n",
    "# Plot the model\n",
    "plt.figure(figsize=(8,6))\n",
    "plt.scatter(predictions, y_test, s=30, c='r', marker='+', zorder=10)\n",
    "plt.xlabel(\"Predicted Values - $\\hat{y}$\")\n",
    "plt.ylabel(\"Actual Values - $y$\")\n",
    "plt.show()\n",
    "\n",
    "print \"MSE:\", mean_squared_error(y_test, predictions)"
   ]
  },
  {
   "cell_type": "code",
   "execution_count": 32,
   "metadata": {
    "collapsed": false
   },
   "outputs": [
    {
     "data": {
      "text/html": [
       "<table class=\"simpletable\">\n",
       "<caption>OLS Regression Results</caption>\n",
       "<tr>\n",
       "  <th>Dep. Variable:</th>        <td>diagnosis</td>    <th>  R-squared:         </th> <td>   0.767</td> \n",
       "</tr>\n",
       "<tr>\n",
       "  <th>Model:</th>                   <td>OLS</td>       <th>  Adj. R-squared:    </th> <td>   0.764</td> \n",
       "</tr>\n",
       "<tr>\n",
       "  <th>Method:</th>             <td>Least Squares</td>  <th>  F-statistic:       </th> <td>   253.6</td> \n",
       "</tr>\n",
       "<tr>\n",
       "  <th>Date:</th>             <td>Wed, 06 Dec 2017</td> <th>  Prob (F-statistic):</th> <td>7.40e-143</td>\n",
       "</tr>\n",
       "<tr>\n",
       "  <th>Time:</th>                 <td>15:41:44</td>     <th>  Log-Likelihood:    </th> <td> -52.108</td> \n",
       "</tr>\n",
       "<tr>\n",
       "  <th>No. Observations:</th>      <td>   469</td>      <th>  AIC:               </th> <td>   116.2</td> \n",
       "</tr>\n",
       "<tr>\n",
       "  <th>Df Residuals:</th>          <td>   463</td>      <th>  BIC:               </th> <td>   141.1</td> \n",
       "</tr>\n",
       "<tr>\n",
       "  <th>Df Model:</th>              <td>     6</td>      <th>                     </th>     <td> </td>    \n",
       "</tr>\n",
       "<tr>\n",
       "  <th>Covariance Type:</th>      <td>nonrobust</td>    <th>                     </th>     <td> </td>    \n",
       "</tr>\n",
       "</table>\n",
       "<table class=\"simpletable\">\n",
       "<tr>\n",
       "             <td></td>                <th>coef</th>     <th>std err</th>      <th>t</th>      <th>P>|t|</th>  <th>[0.025</th>    <th>0.975]</th>  \n",
       "</tr>\n",
       "<tr>\n",
       "  <th>texture_mean</th>            <td>-5.746e-05</td> <td>    0.000</td> <td>   -0.379</td> <td> 0.705</td> <td>   -0.000</td> <td>    0.000</td>\n",
       "</tr>\n",
       "<tr>\n",
       "  <th>area_mean</th>               <td>  -32.4188</td> <td>    2.640</td> <td>  -12.281</td> <td> 0.000</td> <td>  -37.606</td> <td>  -27.232</td>\n",
       "</tr>\n",
       "<tr>\n",
       "  <th>smoothness_worst</th>        <td>   30.2640</td> <td>    4.859</td> <td>    6.228</td> <td> 0.000</td> <td>   20.715</td> <td>   39.813</td>\n",
       "</tr>\n",
       "<tr>\n",
       "  <th>concavity_worst</th>         <td>    0.0616</td> <td>    0.011</td> <td>    5.370</td> <td> 0.000</td> <td>    0.039</td> <td>    0.084</td>\n",
       "</tr>\n",
       "<tr>\n",
       "  <th>concave_points_worst</th>    <td> 3.133e-05</td> <td>    0.000</td> <td>    0.310</td> <td> 0.757</td> <td>   -0.000</td> <td>    0.000</td>\n",
       "</tr>\n",
       "<tr>\n",
       "  <th>fractal_dimension_worst</th> <td>   14.0349</td> <td>    1.279</td> <td>   10.972</td> <td> 0.000</td> <td>   11.521</td> <td>   16.549</td>\n",
       "</tr>\n",
       "</table>\n",
       "<table class=\"simpletable\">\n",
       "<tr>\n",
       "  <th>Omnibus:</th>       <td>40.008</td> <th>  Durbin-Watson:     </th> <td>   1.982</td>\n",
       "</tr>\n",
       "<tr>\n",
       "  <th>Prob(Omnibus):</th> <td> 0.000</td> <th>  Jarque-Bera (JB):  </th> <td>  48.631</td>\n",
       "</tr>\n",
       "<tr>\n",
       "  <th>Skew:</th>          <td> 0.717</td> <th>  Prob(JB):          </th> <td>2.75e-11</td>\n",
       "</tr>\n",
       "<tr>\n",
       "  <th>Kurtosis:</th>      <td> 3.655</td> <th>  Cond. No.          </th> <td>5.16e+05</td>\n",
       "</tr>\n",
       "</table>"
      ],
      "text/plain": [
       "<class 'statsmodels.iolib.summary.Summary'>\n",
       "\"\"\"\n",
       "                            OLS Regression Results                            \n",
       "==============================================================================\n",
       "Dep. Variable:              diagnosis   R-squared:                       0.767\n",
       "Model:                            OLS   Adj. R-squared:                  0.764\n",
       "Method:                 Least Squares   F-statistic:                     253.6\n",
       "Date:                Wed, 06 Dec 2017   Prob (F-statistic):          7.40e-143\n",
       "Time:                        15:41:44   Log-Likelihood:                -52.108\n",
       "No. Observations:                 469   AIC:                             116.2\n",
       "Df Residuals:                     463   BIC:                             141.1\n",
       "Df Model:                           6                                         \n",
       "Covariance Type:            nonrobust                                         \n",
       "===========================================================================================\n",
       "                              coef    std err          t      P>|t|      [0.025      0.975]\n",
       "-------------------------------------------------------------------------------------------\n",
       "texture_mean            -5.746e-05      0.000     -0.379      0.705      -0.000       0.000\n",
       "area_mean                 -32.4188      2.640    -12.281      0.000     -37.606     -27.232\n",
       "smoothness_worst           30.2640      4.859      6.228      0.000      20.715      39.813\n",
       "concavity_worst             0.0616      0.011      5.370      0.000       0.039       0.084\n",
       "concave_points_worst     3.133e-05      0.000      0.310      0.757      -0.000       0.000\n",
       "fractal_dimension_worst    14.0349      1.279     10.972      0.000      11.521      16.549\n",
       "==============================================================================\n",
       "Omnibus:                       40.008   Durbin-Watson:                   1.982\n",
       "Prob(Omnibus):                  0.000   Jarque-Bera (JB):               48.631\n",
       "Skew:                           0.717   Prob(JB):                     2.75e-11\n",
       "Kurtosis:                       3.655   Cond. No.                     5.16e+05\n",
       "==============================================================================\n",
       "\n",
       "Warnings:\n",
       "[1] Standard Errors assume that the covariance matrix of the errors is correctly specified.\n",
       "[2] The condition number is large, 5.16e+05. This might indicate that there are\n",
       "strong multicollinearity or other numerical problems.\n",
       "\"\"\""
      ]
     },
     "execution_count": 32,
     "metadata": {},
     "output_type": "execute_result"
    }
   ],
   "source": [
    "model.summary()"
   ]
  },
  {
   "cell_type": "code",
   "execution_count": 33,
   "metadata": {
    "collapsed": true
   },
   "outputs": [],
   "source": [
    "X = df[['area_mean','smoothness_worst','concavity_worst','fractal_dimension_worst','diagnosis']]\n",
    "test = X[0:100]\n",
    "train = X[100:]\n",
    "X_train = train.drop(['diagnosis'], 1)\n",
    "y_train = train['diagnosis']\n",
    "X_test = test.drop(['diagnosis'], 1)\n",
    "y_test = test['diagnosis']"
   ]
  },
  {
   "cell_type": "code",
   "execution_count": 34,
   "metadata": {
    "collapsed": false
   },
   "outputs": [
    {
     "data": {
      "image/png": "[encoded data removed]",
      "text/plain": [
       "<matplotlib.figure.Figure at 0x7fb5046302d0>"
      ]
     },
     "metadata": {},
     "output_type": "display_data"
    },
    {
     "name": "stdout",
     "output_type": "stream",
     "text": [
      "MSE: 0.130919766298\n"
     ]
    }
   ],
   "source": [
    "import statsmodels.api as sm\n",
    "import matplotlib.pyplot as plt\n",
    "from sklearn.metrics import mean_squared_error\n",
    "\n",
    "# Note the difference in argument order\n",
    "# optionally, you can chain \"fit()\" to the model object\n",
    "model = sm.OLS(y_train, X_train)\n",
    "model = model.fit()\n",
    "predictions = model.predict(X_test)\n",
    "\n",
    "# Plot the model\n",
    "plt.figure(figsize=(8,6))\n",
    "plt.scatter(predictions, y_test, s=30, c='r', marker='+', zorder=10)\n",
    "plt.xlabel(\"Predicted Values - $\\hat{y}$\")\n",
    "plt.ylabel(\"Actual Values - $y$\")\n",
    "plt.show()\n",
    "\n",
    "print \"MSE:\", mean_squared_error(y_test, predictions)"
   ]
  },
  {
   "cell_type": "code",
   "execution_count": 35,
   "metadata": {
    "collapsed": false
   },
   "outputs": [
    {
     "data": {
      "text/html": [
       "<table class=\"simpletable\">\n",
       "<caption>OLS Regression Results</caption>\n",
       "<tr>\n",
       "  <th>Dep. Variable:</th>        <td>diagnosis</td>    <th>  R-squared:         </th> <td>   0.767</td> \n",
       "</tr>\n",
       "<tr>\n",
       "  <th>Model:</th>                   <td>OLS</td>       <th>  Adj. R-squared:    </th> <td>   0.765</td> \n",
       "</tr>\n",
       "<tr>\n",
       "  <th>Method:</th>             <td>Least Squares</td>  <th>  F-statistic:       </th> <td>   381.9</td> \n",
       "</tr>\n",
       "<tr>\n",
       "  <th>Date:</th>             <td>Wed, 06 Dec 2017</td> <th>  Prob (F-statistic):</th> <td>2.11e-145</td>\n",
       "</tr>\n",
       "<tr>\n",
       "  <th>Time:</th>                 <td>15:41:45</td>     <th>  Log-Likelihood:    </th> <td> -52.194</td> \n",
       "</tr>\n",
       "<tr>\n",
       "  <th>No. Observations:</th>      <td>   469</td>      <th>  AIC:               </th> <td>   112.4</td> \n",
       "</tr>\n",
       "<tr>\n",
       "  <th>Df Residuals:</th>          <td>   465</td>      <th>  BIC:               </th> <td>   129.0</td> \n",
       "</tr>\n",
       "<tr>\n",
       "  <th>Df Model:</th>              <td>     4</td>      <th>                     </th>     <td> </td>    \n",
       "</tr>\n",
       "<tr>\n",
       "  <th>Covariance Type:</th>      <td>nonrobust</td>    <th>                     </th>     <td> </td>    \n",
       "</tr>\n",
       "</table>\n",
       "<table class=\"simpletable\">\n",
       "<tr>\n",
       "             <td></td>                <th>coef</th>     <th>std err</th>      <th>t</th>      <th>P>|t|</th>  <th>[0.025</th>    <th>0.975]</th>  \n",
       "</tr>\n",
       "<tr>\n",
       "  <th>area_mean</th>               <td>  -32.5658</td> <td>    1.848</td> <td>  -17.617</td> <td> 0.000</td> <td>  -36.198</td> <td>  -28.933</td>\n",
       "</tr>\n",
       "<tr>\n",
       "  <th>smoothness_worst</th>        <td>   30.1289</td> <td>    4.563</td> <td>    6.603</td> <td> 0.000</td> <td>   21.163</td> <td>   39.095</td>\n",
       "</tr>\n",
       "<tr>\n",
       "  <th>concavity_worst</th>         <td>    0.0610</td> <td>    0.002</td> <td>   26.117</td> <td> 0.000</td> <td>    0.056</td> <td>    0.066</td>\n",
       "</tr>\n",
       "<tr>\n",
       "  <th>fractal_dimension_worst</th> <td>   14.1538</td> <td>    1.214</td> <td>   11.659</td> <td> 0.000</td> <td>   11.768</td> <td>   16.539</td>\n",
       "</tr>\n",
       "</table>\n",
       "<table class=\"simpletable\">\n",
       "<tr>\n",
       "  <th>Omnibus:</th>       <td>40.162</td> <th>  Durbin-Watson:     </th> <td>   1.979</td>\n",
       "</tr>\n",
       "<tr>\n",
       "  <th>Prob(Omnibus):</th> <td> 0.000</td> <th>  Jarque-Bera (JB):  </th> <td>  48.906</td>\n",
       "</tr>\n",
       "<tr>\n",
       "  <th>Skew:</th>          <td> 0.718</td> <th>  Prob(JB):          </th> <td>2.40e-11</td>\n",
       "</tr>\n",
       "<tr>\n",
       "  <th>Kurtosis:</th>      <td> 3.663</td> <th>  Cond. No.          </th> <td>6.24e+03</td>\n",
       "</tr>\n",
       "</table>"
      ],
      "text/plain": [
       "<class 'statsmodels.iolib.summary.Summary'>\n",
       "\"\"\"\n",
       "                            OLS Regression Results                            \n",
       "==============================================================================\n",
       "Dep. Variable:              diagnosis   R-squared:                       0.767\n",
       "Model:                            OLS   Adj. R-squared:                  0.765\n",
       "Method:                 Least Squares   F-statistic:                     381.9\n",
       "Date:                Wed, 06 Dec 2017   Prob (F-statistic):          2.11e-145\n",
       "Time:                        15:41:45   Log-Likelihood:                -52.194\n",
       "No. Observations:                 469   AIC:                             112.4\n",
       "Df Residuals:                     465   BIC:                             129.0\n",
       "Df Model:                           4                                         \n",
       "Covariance Type:            nonrobust                                         \n",
       "===========================================================================================\n",
       "                              coef    std err          t      P>|t|      [0.025      0.975]\n",
       "-------------------------------------------------------------------------------------------\n",
       "area_mean                 -32.5658      1.848    -17.617      0.000     -36.198     -28.933\n",
       "smoothness_worst           30.1289      4.563      6.603      0.000      21.163      39.095\n",
       "concavity_worst             0.0610      0.002     26.117      0.000       0.056       0.066\n",
       "fractal_dimension_worst    14.1538      1.214     11.659      0.000      11.768      16.539\n",
       "==============================================================================\n",
       "Omnibus:                       40.162   Durbin-Watson:                   1.979\n",
       "Prob(Omnibus):                  0.000   Jarque-Bera (JB):               48.906\n",
       "Skew:                           0.718   Prob(JB):                     2.40e-11\n",
       "Kurtosis:                       3.663   Cond. No.                     6.24e+03\n",
       "==============================================================================\n",
       "\n",
       "Warnings:\n",
       "[1] Standard Errors assume that the covariance matrix of the errors is correctly specified.\n",
       "[2] The condition number is large, 6.24e+03. This might indicate that there are\n",
       "strong multicollinearity or other numerical problems.\n",
       "\"\"\""
      ]
     },
     "execution_count": 35,
     "metadata": {},
     "output_type": "execute_result"
    }
   ],
   "source": [
    "model.summary()"
   ]
  },
  {
   "cell_type": "code",
   "execution_count": 36,
   "metadata": {
    "collapsed": true
   },
   "outputs": [],
   "source": [
    "X = df[['area_mean','concavity_worst','fractal_dimension_worst','diagnosis']]\n",
    "test = X[0:100]\n",
    "train = X[100:]\n",
    "X_train = train.drop(['diagnosis'], 1)\n",
    "y_train = train['diagnosis']\n",
    "X_test = test.drop(['diagnosis'], 1)\n",
    "y_test = test['diagnosis']"
   ]
  },
  {
   "cell_type": "raw",
   "metadata": {},
   "source": []
  },
  {
   "cell_type": "code",
   "execution_count": 37,
   "metadata": {
    "collapsed": false
   },
   "outputs": [
    {
     "data": {
      "image/png": "[encoded data removed]",
      "text/plain": [
       "<matplotlib.figure.Figure at 0x7fb50451c7d0>"
      ]
     },
     "metadata": {},
     "output_type": "display_data"
    },
    {
     "name": "stdout",
     "output_type": "stream",
     "text": [
      "MSE: 0.129666033939\n"
     ]
    }
   ],
   "source": [
    "import statsmodels.api as sm\n",
    "import matplotlib.pyplot as plt\n",
    "from sklearn.metrics import mean_squared_error\n",
    "\n",
    "# Note the difference in argument order\n",
    "# optionally, you can chain \"fit()\" to the model object\n",
    "model = sm.OLS(y_train, X_train)\n",
    "model = model.fit()\n",
    "predictions = model.predict(X_test)\n",
    "\n",
    "# Plot the model\n",
    "plt.figure(figsize=(8,6))\n",
    "plt.scatter(predictions, y_test, s=30, c='r', marker='+', zorder=10)\n",
    "plt.xlabel(\"Predicted Values - $\\hat{y}$\")\n",
    "plt.ylabel(\"Actual Values - $y$\")\n",
    "plt.show()\n",
    "\n",
    "print \"MSE:\", mean_squared_error(y_test, predictions)"
   ]
  },
  {
   "cell_type": "code",
   "execution_count": 38,
   "metadata": {
    "collapsed": false
   },
   "outputs": [
    {
     "data": {
      "text/html": [
       "<table class=\"simpletable\">\n",
       "<caption>OLS Regression Results</caption>\n",
       "<tr>\n",
       "  <th>Dep. Variable:</th>        <td>diagnosis</td>    <th>  R-squared:         </th> <td>   0.745</td> \n",
       "</tr>\n",
       "<tr>\n",
       "  <th>Model:</th>                   <td>OLS</td>       <th>  Adj. R-squared:    </th> <td>   0.743</td> \n",
       "</tr>\n",
       "<tr>\n",
       "  <th>Method:</th>             <td>Least Squares</td>  <th>  F-statistic:       </th> <td>   453.2</td> \n",
       "</tr>\n",
       "<tr>\n",
       "  <th>Date:</th>             <td>Wed, 06 Dec 2017</td> <th>  Prob (F-statistic):</th> <td>9.94e-138</td>\n",
       "</tr>\n",
       "<tr>\n",
       "  <th>Time:</th>                 <td>15:41:45</td>     <th>  Log-Likelihood:    </th> <td> -73.213</td> \n",
       "</tr>\n",
       "<tr>\n",
       "  <th>No. Observations:</th>      <td>   469</td>      <th>  AIC:               </th> <td>   152.4</td> \n",
       "</tr>\n",
       "<tr>\n",
       "  <th>Df Residuals:</th>          <td>   466</td>      <th>  BIC:               </th> <td>   164.9</td> \n",
       "</tr>\n",
       "<tr>\n",
       "  <th>Df Model:</th>              <td>     3</td>      <th>                     </th>     <td> </td>    \n",
       "</tr>\n",
       "<tr>\n",
       "  <th>Covariance Type:</th>      <td>nonrobust</td>    <th>                     </th>     <td> </td>    \n",
       "</tr>\n",
       "</table>\n",
       "<table class=\"simpletable\">\n",
       "<tr>\n",
       "             <td></td>                <th>coef</th>     <th>std err</th>      <th>t</th>      <th>P>|t|</th>  <th>[0.025</th>    <th>0.975]</th>  \n",
       "</tr>\n",
       "<tr>\n",
       "  <th>area_mean</th>               <td>  -26.2829</td> <td>    1.656</td> <td>  -15.875</td> <td> 0.000</td> <td>  -29.536</td> <td>  -23.029</td>\n",
       "</tr>\n",
       "<tr>\n",
       "  <th>concavity_worst</th>         <td>    0.0584</td> <td>    0.002</td> <td>   24.295</td> <td> 0.000</td> <td>    0.054</td> <td>    0.063</td>\n",
       "</tr>\n",
       "<tr>\n",
       "  <th>fractal_dimension_worst</th> <td>   12.4803</td> <td>    1.240</td> <td>   10.062</td> <td> 0.000</td> <td>   10.043</td> <td>   14.918</td>\n",
       "</tr>\n",
       "</table>\n",
       "<table class=\"simpletable\">\n",
       "<tr>\n",
       "  <th>Omnibus:</th>       <td>24.291</td> <th>  Durbin-Watson:     </th> <td>   1.894</td>\n",
       "</tr>\n",
       "<tr>\n",
       "  <th>Prob(Omnibus):</th> <td> 0.000</td> <th>  Jarque-Bera (JB):  </th> <td>  26.883</td>\n",
       "</tr>\n",
       "<tr>\n",
       "  <th>Skew:</th>          <td> 0.584</td> <th>  Prob(JB):          </th> <td>1.45e-06</td>\n",
       "</tr>\n",
       "<tr>\n",
       "  <th>Kurtosis:</th>      <td> 3.104</td> <th>  Cond. No.          </th> <td>2.59e+03</td>\n",
       "</tr>\n",
       "</table>"
      ],
      "text/plain": [
       "<class 'statsmodels.iolib.summary.Summary'>\n",
       "\"\"\"\n",
       "                            OLS Regression Results                            \n",
       "==============================================================================\n",
       "Dep. Variable:              diagnosis   R-squared:                       0.745\n",
       "Model:                            OLS   Adj. R-squared:                  0.743\n",
       "Method:                 Least Squares   F-statistic:                     453.2\n",
       "Date:                Wed, 06 Dec 2017   Prob (F-statistic):          9.94e-138\n",
       "Time:                        15:41:45   Log-Likelihood:                -73.213\n",
       "No. Observations:                 469   AIC:                             152.4\n",
       "Df Residuals:                     466   BIC:                             164.9\n",
       "Df Model:                           3                                         \n",
       "Covariance Type:            nonrobust                                         \n",
       "===========================================================================================\n",
       "                              coef    std err          t      P>|t|      [0.025      0.975]\n",
       "-------------------------------------------------------------------------------------------\n",
       "area_mean                 -26.2829      1.656    -15.875      0.000     -29.536     -23.029\n",
       "concavity_worst             0.0584      0.002     24.295      0.000       0.054       0.063\n",
       "fractal_dimension_worst    12.4803      1.240     10.062      0.000      10.043      14.918\n",
       "==============================================================================\n",
       "Omnibus:                       24.291   Durbin-Watson:                   1.894\n",
       "Prob(Omnibus):                  0.000   Jarque-Bera (JB):               26.883\n",
       "Skew:                           0.584   Prob(JB):                     1.45e-06\n",
       "Kurtosis:                       3.104   Cond. No.                     2.59e+03\n",
       "==============================================================================\n",
       "\n",
       "Warnings:\n",
       "[1] Standard Errors assume that the covariance matrix of the errors is correctly specified.\n",
       "[2] The condition number is large, 2.59e+03. This might indicate that there are\n",
       "strong multicollinearity or other numerical problems.\n",
       "\"\"\""
      ]
     },
     "execution_count": 38,
     "metadata": {},
     "output_type": "execute_result"
    }
   ],
   "source": [
    "model.summary()"
   ]
  },
  {
   "cell_type": "markdown",
   "metadata": {},
   "source": [
    "This method, of using Ordinary Least Squares has the advantage that it is easy to code, and easy to interpret. You can easily see that the type of cancer can be predicted if you know the area, worst smoothness, worst concavity, and worst fractal dimension of the Cancer Patient. You will be right 76.7% of the time. when you run a point through the model, if you get a value of 0.5 you can be very certain the candidate has malignant cancer, and if they have a value less than 0.25 you can be very certain they have benign cancer.\n",
    "\n",
    "The area, concavity, and Fractal dimension are the most important features."
   ]
  },
  {
   "cell_type": "markdown",
   "metadata": {},
   "source": [
    "# For professionals\n",
    "The limitation of this analysis we don't know demographic data on the patients, such as their age, whether they smoked, or other information on the patients. In a further sample I would want to know about the patients to see if those features matter. It makes it difficult to know when extrapolating this data to more people because we don't know how representative our sample is.\n",
    "\n",
    "Also, it would be useful to try using methods which hit a balance between variance and bias."
   ]
  },
  {
   "cell_type": "markdown",
   "metadata": {},
   "source": [
    "# For lay people\n",
    "My analysis shows that knowing the area, concavity, and worst fractal dimension of breast cancer are the most important features to determine whether the breast cancer is malignant or benign for a population similar to our sample."
   ]
  },
  {
   "cell_type": "markdown",
   "metadata": {},
   "source": [
    "# Random Forest or OLS?\n",
    "Random Forests have low bias but very high variance. OLS Regression has high bias, but can also have low variance. Which one you choose for a particular model will determine on whether it more important to have low bias or low variance. This is why they can give you different answers. This is why we usually do more than one test to find the important features. If they give you wildly different answers, it could warrant further investigation."
   ]
  },
  {
   "cell_type": "markdown",
   "metadata": {
    "collapsed": true
   },
   "source": [
    "# Part 2"
   ]
  },
  {
   "cell_type": "code",
   "execution_count": 2,
   "metadata": {
    "collapsed": false
   },
   "outputs": [
    {
     "ename": "ImportError",
     "evalue": "cannot import name LinearRegression",
     "output_type": "error",
     "traceback": [
      "\u001b[0;31m---------------------------------------------------------------------------\u001b[0m",
      "\u001b[0;31mImportError\u001b[0m                               Traceback (most recent call last)",
      "\u001b[0;32m<ipython-input-2-d1db6745f43e>\u001b[0m in \u001b[0;36m<module>\u001b[0;34m()\u001b[0m\n\u001b[1;32m      1\u001b[0m \u001b[0;32mimport\u001b[0m \u001b[0mpandas\u001b[0m \u001b[0;32mas\u001b[0m \u001b[0mpd\u001b[0m\u001b[0;34m\u001b[0m\u001b[0m\n\u001b[1;32m      2\u001b[0m \u001b[0;32mimport\u001b[0m \u001b[0mnumpy\u001b[0m \u001b[0;32mas\u001b[0m \u001b[0mnp\u001b[0m\u001b[0;34m\u001b[0m\u001b[0m\n\u001b[0;32m----> 3\u001b[0;31m \u001b[0;32mfrom\u001b[0m \u001b[0msklearn\u001b[0m \u001b[0;32mimport\u001b[0m \u001b[0mLinearRegression\u001b[0m\u001b[0;34m\u001b[0m\u001b[0m\n\u001b[0m\u001b[1;32m      4\u001b[0m \u001b[0;32mfrom\u001b[0m \u001b[0msklearn\u001b[0m\u001b[0;34m.\u001b[0m\u001b[0mcross_validation\u001b[0m \u001b[0;32mimport\u001b[0m \u001b[0mcross_val_score\u001b[0m\u001b[0;34m\u001b[0m\u001b[0m\n\u001b[1;32m      5\u001b[0m \u001b[0;34m\u001b[0m\u001b[0m\n",
      "\u001b[0;31mImportError\u001b[0m: cannot import name LinearRegression"
     ]
    }
   ],
   "source": [
    "import pandas as pd\n",
    "import numpy as np\n",
    "from sklearn import LinearRegression\n",
    "from sklearn.cross_validation import cross_val_score\n",
    "\n",
    "# Load data\n",
    "d = pd.read_csv('train.csv')\n",
    "\n",
    "\n",
    "# Setup data for prediction\n",
    "x1 = data.SalaryNormalized\n",
    "x2 = pd.get_dummies(data.ContractType)\n",
    "\n",
    "# Setup model\n",
    "model = LinearRegression()\n",
    "\n",
    "# Evaluate model\n",
    "from sklearn.cross_validation import cross_val_score\n",
    "from sklearn.cross_validation import train_test_split\n",
    "scores = cross_val_score(model, x2, x1, cv=1, scoring='mean_absolute_error')\n",
    "print(scores.mean())"
   ]
  },
  {
   "cell_type": "code",
   "execution_count": 3,
   "metadata": {
    "collapsed": true
   },
   "outputs": [],
   "source": [
    "#Error 1\n",
    "# In order to correctly import the model, you need to specify the subdirectory of sklearn in this case.\n",
    "from sklearn.linear_model import LinearRegression"
   ]
  },
  {
   "cell_type": "code",
   "execution_count": 4,
   "metadata": {
    "collapsed": false
   },
   "outputs": [
    {
     "name": "stderr",
     "output_type": "stream",
     "text": [
      "/home/matthew/anaconda2/lib/python2.7/site-packages/sklearn/cross_validation.py:44: DeprecationWarning: This module was deprecated in version 0.18 in favor of the model_selection module into which all the refactored classes and functions are moved. Also note that the interface of the new CV iterators are different from that of this module. This module will be removed in 0.20.\n",
      "  \"This module will be removed in 0.20.\", DeprecationWarning)\n"
     ]
    },
    {
     "ename": "NameError",
     "evalue": "name 'data' is not defined",
     "output_type": "error",
     "traceback": [
      "\u001b[0;31m---------------------------------------------------------------------------\u001b[0m",
      "\u001b[0;31mNameError\u001b[0m                                 Traceback (most recent call last)",
      "\u001b[0;32m<ipython-input-4-f9cd3b71c5ab>\u001b[0m in \u001b[0;36m<module>\u001b[0;34m()\u001b[0m\n\u001b[1;32m      9\u001b[0m \u001b[0;34m\u001b[0m\u001b[0m\n\u001b[1;32m     10\u001b[0m \u001b[0;31m# Setup data for prediction\u001b[0m\u001b[0;34m\u001b[0m\u001b[0;34m\u001b[0m\u001b[0m\n\u001b[0;32m---> 11\u001b[0;31m \u001b[0mx1\u001b[0m \u001b[0;34m=\u001b[0m \u001b[0mdata\u001b[0m\u001b[0;34m.\u001b[0m\u001b[0mSalaryNormalized\u001b[0m\u001b[0;34m\u001b[0m\u001b[0m\n\u001b[0m\u001b[1;32m     12\u001b[0m \u001b[0mx2\u001b[0m \u001b[0;34m=\u001b[0m \u001b[0mpd\u001b[0m\u001b[0;34m.\u001b[0m\u001b[0mget_dummies\u001b[0m\u001b[0;34m(\u001b[0m\u001b[0mdata\u001b[0m\u001b[0;34m.\u001b[0m\u001b[0mContractType\u001b[0m\u001b[0;34m)\u001b[0m\u001b[0;34m\u001b[0m\u001b[0m\n\u001b[1;32m     13\u001b[0m \u001b[0;34m\u001b[0m\u001b[0m\n",
      "\u001b[0;31mNameError\u001b[0m: name 'data' is not defined"
     ]
    }
   ],
   "source": [
    "import pandas as pd\n",
    "import numpy as np\n",
    "from sklearn.linear_model import LinearRegression\n",
    "from sklearn.cross_validation import cross_val_score\n",
    "\n",
    "# Load data\n",
    "d = pd.read_csv('train.csv')\n",
    "\n",
    "\n",
    "# Setup data for prediction\n",
    "x1 = data.SalaryNormalized\n",
    "x2 = pd.get_dummies(data.ContractType)\n",
    "\n",
    "# Setup model\n",
    "model = LinearRegression()\n",
    "\n",
    "# Evaluate model\n",
    "from sklearn.cross_validation import cross_val_score\n",
    "from sklearn.cross_validation import train_test_split\n",
    "scores = cross_val_score(model, x2, x1, cv=1, scoring='mean_absolute_error')\n",
    "print(scores.mean())"
   ]
  },
  {
   "cell_type": "markdown",
   "metadata": {},
   "source": [
    "# Error 2\n",
    "data is not defined. Python doesn't know what to do with it.\n"
   ]
  },
  {
   "cell_type": "code",
   "execution_count": 5,
   "metadata": {
    "collapsed": false
   },
   "outputs": [
    {
     "ename": "ValueError",
     "evalue": "k-fold cross validation requires at least one train / test split by setting n_folds=2 or more, got n_folds=1.",
     "output_type": "error",
     "traceback": [
      "\u001b[0;31m---------------------------------------------------------------------------\u001b[0m",
      "\u001b[0;31mValueError\u001b[0m                                Traceback (most recent call last)",
      "\u001b[0;32m<ipython-input-5-7c56dbbbd587>\u001b[0m in \u001b[0;36m<module>\u001b[0;34m()\u001b[0m\n\u001b[1;32m     18\u001b[0m \u001b[0;32mfrom\u001b[0m \u001b[0msklearn\u001b[0m\u001b[0;34m.\u001b[0m\u001b[0mcross_validation\u001b[0m \u001b[0;32mimport\u001b[0m \u001b[0mcross_val_score\u001b[0m\u001b[0;34m\u001b[0m\u001b[0m\n\u001b[1;32m     19\u001b[0m \u001b[0;32mfrom\u001b[0m \u001b[0msklearn\u001b[0m\u001b[0;34m.\u001b[0m\u001b[0mcross_validation\u001b[0m \u001b[0;32mimport\u001b[0m \u001b[0mtrain_test_split\u001b[0m\u001b[0;34m\u001b[0m\u001b[0m\n\u001b[0;32m---> 20\u001b[0;31m \u001b[0mscores\u001b[0m \u001b[0;34m=\u001b[0m \u001b[0mcross_val_score\u001b[0m\u001b[0;34m(\u001b[0m\u001b[0mmodel\u001b[0m\u001b[0;34m,\u001b[0m \u001b[0mx2\u001b[0m\u001b[0;34m,\u001b[0m \u001b[0mx1\u001b[0m\u001b[0;34m,\u001b[0m \u001b[0mcv\u001b[0m\u001b[0;34m=\u001b[0m\u001b[0;36m1\u001b[0m\u001b[0;34m,\u001b[0m \u001b[0mscoring\u001b[0m\u001b[0;34m=\u001b[0m\u001b[0;34m'mean_absolute_error'\u001b[0m\u001b[0;34m)\u001b[0m\u001b[0;34m\u001b[0m\u001b[0m\n\u001b[0m\u001b[1;32m     21\u001b[0m \u001b[0;32mprint\u001b[0m\u001b[0;34m(\u001b[0m\u001b[0mscores\u001b[0m\u001b[0;34m.\u001b[0m\u001b[0mmean\u001b[0m\u001b[0;34m(\u001b[0m\u001b[0;34m)\u001b[0m\u001b[0;34m)\u001b[0m\u001b[0;34m\u001b[0m\u001b[0m\n",
      "\u001b[0;32m/home/matthew/anaconda2/lib/python2.7/site-packages/sklearn/cross_validation.pyc\u001b[0m in \u001b[0;36mcross_val_score\u001b[0;34m(estimator, X, y, scoring, cv, n_jobs, verbose, fit_params, pre_dispatch)\u001b[0m\n\u001b[1;32m   1560\u001b[0m     \u001b[0mX\u001b[0m\u001b[0;34m,\u001b[0m \u001b[0my\u001b[0m \u001b[0;34m=\u001b[0m \u001b[0mindexable\u001b[0m\u001b[0;34m(\u001b[0m\u001b[0mX\u001b[0m\u001b[0;34m,\u001b[0m \u001b[0my\u001b[0m\u001b[0;34m)\u001b[0m\u001b[0;34m\u001b[0m\u001b[0m\n\u001b[1;32m   1561\u001b[0m \u001b[0;34m\u001b[0m\u001b[0m\n\u001b[0;32m-> 1562\u001b[0;31m     \u001b[0mcv\u001b[0m \u001b[0;34m=\u001b[0m \u001b[0mcheck_cv\u001b[0m\u001b[0;34m(\u001b[0m\u001b[0mcv\u001b[0m\u001b[0;34m,\u001b[0m \u001b[0mX\u001b[0m\u001b[0;34m,\u001b[0m \u001b[0my\u001b[0m\u001b[0;34m,\u001b[0m \u001b[0mclassifier\u001b[0m\u001b[0;34m=\u001b[0m\u001b[0mis_classifier\u001b[0m\u001b[0;34m(\u001b[0m\u001b[0mestimator\u001b[0m\u001b[0;34m)\u001b[0m\u001b[0;34m)\u001b[0m\u001b[0;34m\u001b[0m\u001b[0m\n\u001b[0m\u001b[1;32m   1563\u001b[0m     \u001b[0mscorer\u001b[0m \u001b[0;34m=\u001b[0m \u001b[0mcheck_scoring\u001b[0m\u001b[0;34m(\u001b[0m\u001b[0mestimator\u001b[0m\u001b[0;34m,\u001b[0m \u001b[0mscoring\u001b[0m\u001b[0;34m=\u001b[0m\u001b[0mscoring\u001b[0m\u001b[0;34m)\u001b[0m\u001b[0;34m\u001b[0m\u001b[0m\n\u001b[1;32m   1564\u001b[0m     \u001b[0;31m# We clone the estimator to make sure that all the folds are\u001b[0m\u001b[0;34m\u001b[0m\u001b[0;34m\u001b[0m\u001b[0m\n",
      "\u001b[0;32m/home/matthew/anaconda2/lib/python2.7/site-packages/sklearn/cross_validation.pyc\u001b[0m in \u001b[0;36mcheck_cv\u001b[0;34m(cv, X, y, classifier)\u001b[0m\n\u001b[1;32m   1829\u001b[0m             \u001b[0;32melse\u001b[0m\u001b[0;34m:\u001b[0m\u001b[0;34m\u001b[0m\u001b[0m\n\u001b[1;32m   1830\u001b[0m                 \u001b[0mn_samples\u001b[0m \u001b[0;34m=\u001b[0m \u001b[0mX\u001b[0m\u001b[0;34m.\u001b[0m\u001b[0mshape\u001b[0m\u001b[0;34m[\u001b[0m\u001b[0;36m0\u001b[0m\u001b[0;34m]\u001b[0m\u001b[0;34m\u001b[0m\u001b[0m\n\u001b[0;32m-> 1831\u001b[0;31m             \u001b[0mcv\u001b[0m \u001b[0;34m=\u001b[0m \u001b[0mKFold\u001b[0m\u001b[0;34m(\u001b[0m\u001b[0mn_samples\u001b[0m\u001b[0;34m,\u001b[0m \u001b[0mcv\u001b[0m\u001b[0;34m)\u001b[0m\u001b[0;34m\u001b[0m\u001b[0m\n\u001b[0m\u001b[1;32m   1832\u001b[0m     \u001b[0;32mreturn\u001b[0m \u001b[0mcv\u001b[0m\u001b[0;34m\u001b[0m\u001b[0m\n\u001b[1;32m   1833\u001b[0m \u001b[0;34m\u001b[0m\u001b[0m\n",
      "\u001b[0;32m/home/matthew/anaconda2/lib/python2.7/site-packages/sklearn/cross_validation.pyc\u001b[0m in \u001b[0;36m__init__\u001b[0;34m(self, n, n_folds, shuffle, random_state)\u001b[0m\n\u001b[1;32m    336\u001b[0m     def __init__(self, n, n_folds=3, shuffle=False,\n\u001b[1;32m    337\u001b[0m                  random_state=None):\n\u001b[0;32m--> 338\u001b[0;31m         \u001b[0msuper\u001b[0m\u001b[0;34m(\u001b[0m\u001b[0mKFold\u001b[0m\u001b[0;34m,\u001b[0m \u001b[0mself\u001b[0m\u001b[0;34m)\u001b[0m\u001b[0;34m.\u001b[0m\u001b[0m__init__\u001b[0m\u001b[0;34m(\u001b[0m\u001b[0mn\u001b[0m\u001b[0;34m,\u001b[0m \u001b[0mn_folds\u001b[0m\u001b[0;34m,\u001b[0m \u001b[0mshuffle\u001b[0m\u001b[0;34m,\u001b[0m \u001b[0mrandom_state\u001b[0m\u001b[0;34m)\u001b[0m\u001b[0;34m\u001b[0m\u001b[0m\n\u001b[0m\u001b[1;32m    339\u001b[0m         \u001b[0mself\u001b[0m\u001b[0;34m.\u001b[0m\u001b[0midxs\u001b[0m \u001b[0;34m=\u001b[0m \u001b[0mnp\u001b[0m\u001b[0;34m.\u001b[0m\u001b[0marange\u001b[0m\u001b[0;34m(\u001b[0m\u001b[0mn\u001b[0m\u001b[0;34m)\u001b[0m\u001b[0;34m\u001b[0m\u001b[0m\n\u001b[1;32m    340\u001b[0m         \u001b[0;32mif\u001b[0m \u001b[0mshuffle\u001b[0m\u001b[0;34m:\u001b[0m\u001b[0;34m\u001b[0m\u001b[0m\n",
      "\u001b[0;32m/home/matthew/anaconda2/lib/python2.7/site-packages/sklearn/cross_validation.pyc\u001b[0m in \u001b[0;36m__init__\u001b[0;34m(self, n, n_folds, shuffle, random_state)\u001b[0m\n\u001b[1;32m    259\u001b[0m                 \u001b[0;34m\"k-fold cross validation requires at least one\"\u001b[0m\u001b[0;34m\u001b[0m\u001b[0m\n\u001b[1;32m    260\u001b[0m                 \u001b[0;34m\" train / test split by setting n_folds=2 or more,\"\u001b[0m\u001b[0;34m\u001b[0m\u001b[0m\n\u001b[0;32m--> 261\u001b[0;31m                 \" got n_folds={0}.\".format(n_folds))\n\u001b[0m\u001b[1;32m    262\u001b[0m         \u001b[0;32mif\u001b[0m \u001b[0mn_folds\u001b[0m \u001b[0;34m>\u001b[0m \u001b[0mself\u001b[0m\u001b[0;34m.\u001b[0m\u001b[0mn\u001b[0m\u001b[0;34m:\u001b[0m\u001b[0;34m\u001b[0m\u001b[0m\n\u001b[1;32m    263\u001b[0m             raise ValueError(\n",
      "\u001b[0;31mValueError\u001b[0m: k-fold cross validation requires at least one train / test split by setting n_folds=2 or more, got n_folds=1."
     ]
    }
   ],
   "source": [
    "import pandas as pd\n",
    "import numpy as np\n",
    "from sklearn.linear_model import LinearRegression\n",
    "from sklearn.cross_validation import cross_val_score\n",
    "\n",
    "# Load data\n",
    "d = pd.read_csv('train.csv')\n",
    "\n",
    "\n",
    "# Setup data for prediction\n",
    "x1 = d.SalaryNormalized\n",
    "x2 = pd.get_dummies(d.ContractType)\n",
    "\n",
    "# Setup model\n",
    "model = LinearRegression()\n",
    "\n",
    "# Evaluate model\n",
    "from sklearn.cross_validation import cross_val_score\n",
    "from sklearn.cross_validation import train_test_split\n",
    "scores = cross_val_score(model, x2, x1, cv=1, scoring='mean_absolute_error')\n",
    "print(scores.mean())"
   ]
  },
  {
   "cell_type": "markdown",
   "metadata": {},
   "source": [
    "# Error 3\n",
    "k-fold cross validation works by comparing how an algorithm works on multiple folds, so cv has to be an integer greater than 1 in order for it to work. If you have only one sample, there is nothing to cross-check your model against."
   ]
  },
  {
   "cell_type": "code",
   "execution_count": 6,
   "metadata": {
    "collapsed": false
   },
   "outputs": [
    {
     "name": "stdout",
     "output_type": "stream",
     "text": [
      "-11766.4002944\n"
     ]
    },
    {
     "name": "stderr",
     "output_type": "stream",
     "text": [
      "/home/matthew/anaconda2/lib/python2.7/site-packages/sklearn/metrics/scorer.py:90: DeprecationWarning: Scoring method mean_absolute_error was renamed to neg_mean_absolute_error in version 0.18 and will be removed in 0.20.\n",
      "  sample_weight=sample_weight)\n",
      "/home/matthew/anaconda2/lib/python2.7/site-packages/sklearn/metrics/scorer.py:90: DeprecationWarning: Scoring method mean_absolute_error was renamed to neg_mean_absolute_error in version 0.18 and will be removed in 0.20.\n",
      "  sample_weight=sample_weight)\n",
      "/home/matthew/anaconda2/lib/python2.7/site-packages/sklearn/metrics/scorer.py:90: DeprecationWarning: Scoring method mean_absolute_error was renamed to neg_mean_absolute_error in version 0.18 and will be removed in 0.20.\n",
      "  sample_weight=sample_weight)\n",
      "/home/matthew/anaconda2/lib/python2.7/site-packages/sklearn/metrics/scorer.py:90: DeprecationWarning: Scoring method mean_absolute_error was renamed to neg_mean_absolute_error in version 0.18 and will be removed in 0.20.\n",
      "  sample_weight=sample_weight)\n"
     ]
    }
   ],
   "source": [
    "import pandas as pd\n",
    "import numpy as np\n",
    "from sklearn.linear_model import LinearRegression\n",
    "from sklearn.cross_validation import cross_val_score\n",
    "\n",
    "# Load data\n",
    "d = pd.read_csv('train.csv')\n",
    "\n",
    "\n",
    "# Setup data for prediction\n",
    "x1 = d.SalaryNormalized\n",
    "x2 = pd.get_dummies(d.ContractType)\n",
    "\n",
    "# Setup model\n",
    "model = LinearRegression()\n",
    "\n",
    "# Evaluate model\n",
    "from sklearn.cross_validation import cross_val_score\n",
    "from sklearn.cross_validation import train_test_split\n",
    "scores = cross_val_score(model, x2, x1, cv=4, scoring='mean_absolute_error')\n",
    "print(scores.mean())"
   ]
  },
  {
   "cell_type": "markdown",
   "metadata": {},
   "source": [
    "#### This works, it tells us that our cross-validation score is -11766.4 when we have our set up correctly.\n",
    "\n",
    "# Convenience Tip\n",
    "We generally put our imports at the top of the page, so that everything is imported first, because it makes coding easier when you are writing a lot. It isn't wrong, it is just inconvenient. \n",
    "\n",
    "# Convention Tip\n",
    "as is normal in mathematics, we generally name our functions y and X by convention. x1 and x2 are not wrong, but it makes it easier to read and will fit into formulas you find when you look for tools online."
   ]
  },
  {
   "cell_type": "code",
   "execution_count": null,
   "metadata": {
    "collapsed": true
   },
   "outputs": [],
   "source": []
  }
 ],
 "metadata": {
  "kernelspec": {
   "display_name": "Python 2",
   "language": "python",
   "name": "python2"
  },
  "language_info": {
   "codemirror_mode": {
    "name": "ipython",
    "version": 2
   },
   "file_extension": ".py",
   "mimetype": "text/x-python",
   "name": "python",
   "nbconvert_exporter": "python",
   "pygments_lexer": "ipython2",
   "version": "2.7.13"
  }
 },
 "nbformat": 4,
 "nbformat_minor": 2
}
